{
 "cells": [
  {
   "cell_type": "code",
   "execution_count": 129,
   "metadata": {},
   "outputs": [],
   "source": [
    "import random\n",
    "import math\n",
    "import matplotlib.pyplot as plt\n",
    "import time\n",
    "import numpy as np\n",
    "from point import Point\n",
    "import json"
   ]
  },
  {
   "cell_type": "markdown",
   "metadata": {},
   "source": [
    "# Load the Layout Pool from Static Generation"
   ]
  },
  {
   "cell_type": "code",
   "execution_count": 130,
   "metadata": {},
   "outputs": [],
   "source": [
    "with open(\"data/static_layout_pool.json\", 'r') as openfile:\n",
    "    json_object = json.load(openfile)\n",
    "\n",
    "WIDTH = json_object[\"width\"]\n",
    "LENGTH = json_object[\"length\"]\n",
    "layouts = [[Point(p[0], p[1]) for p in lay] for lay in json_object[\"layouts\"]]"
   ]
  },
  {
   "cell_type": "markdown",
   "metadata": {},
   "source": [
    "# Dynamic Trial Shuffling\n",
    "- We shuffle the N trials such that the boundary visibility alternates each time.\n",
    "- We read N/2 trials from static generation.\n",
    "- Boundary visibility is alternating, so we simply assume border_visibility = i % 2"
   ]
  },
  {
   "cell_type": "markdown",
   "metadata": {},
   "source": [
    "## Generation\n",
    "\n",
    "- At least K = 5 trials between trials of the same pairing.\n",
    "- We make sure that between adjacent pairs, the ending location and starting location is always opposite.\n",
    "    - Also, make sure these distances obey MIN_DIST_PATH"
   ]
  },
  {
   "cell_type": "code",
   "execution_count": 131,
   "metadata": {},
   "outputs": [],
   "source": [
    "NUM_SHUFFLES = 50\n",
    "DIST_BETWEEN_COPY = 5 # K\n",
    "MIN_DIST_PATH = 1.5\n",
    "LAYOUT_COUNT = len(layouts)"
   ]
  },
  {
   "cell_type": "code",
   "execution_count": 134,
   "metadata": {},
   "outputs": [],
   "source": [
    "def generate_random_shuffle():\n",
    "    # we interleave to random lists of 1...n/2, therefore it is guaranteed that the random shuffling\n",
    "    #is valid for the constraint: boundary visibility alternates each time. each layout gets exactly \n",
    "    #one case with border, exactly one without border\n",
    "    def random_half_shuffle():\n",
    "        l = list(range(len(layouts)))\n",
    "        random.shuffle(l)\n",
    "        return l\n",
    "    \n",
    "    l = [x for t in zip(random_half_shuffle(), random_half_shuffle()) for x in t]\n",
    "    return l\n",
    "\n",
    "def is_valid_shuffle(order):\n",
    "    # At least K = 5 trials between trials of the same pairing.\n",
    "    # since we generate this as half and half, we only need to check the first and last K elements\n",
    "    K = DIST_BETWEEN_COPY\n",
    "    for i in range(K, len(order)):\n",
    "        if order[i] in order[i-K:i]:\n",
    "            #print(\"----\", i, K, order[i], order[i-K:i])\n",
    "            return False\n",
    "    \n",
    "    # each pair gets one occurence with border, one occurence without border\n",
    "    # as a property of generate_random_shuffle, therefore we do not test for it.\n",
    "    \n",
    "    #TODO: We make sure that between adjacent pairs, the ending location and starting location is always opposite.\n",
    "    #TODO: Also, make sure these distances obey MIN_DIST_PATH\n",
    "    \n",
    "    rule_adjacentPairNotSameSide_violations = 0\n",
    "    rule_minDistPath_violations = 0\n",
    "    mirrored_y_for_rule = [False] # first layout is the anchor, never mirrored\n",
    "    carrying_mirror_y = False\n",
    "    \n",
    "    for i in range(len(order) - 1):\n",
    "        pre_point = layouts[order[i]][-1]\n",
    "        post_point = layouts[order[i+1]][0]\n",
    "\n",
    "        pre_side = pre_point.y < LENGTH/2\n",
    "        post_side = post_point.y < LENGTH/2\n",
    "        \n",
    "        mirrored_pre_point = Point(pre_point.x, LENGTH - pre_point.y)\n",
    "        mirrored_post_point = Point(post_point.x, LENGTH - post_point.y)\n",
    "        \n",
    "        # if there is any violation, try to mirror this next trial\n",
    "        side_violation = pre_side == post_side\n",
    "        dist_violation = (mirrored_pre_point if carrying_mirror_y else pre_point).dist(post_point) < MIN_DIST_PATH\n",
    "        \n",
    "        if (not side_violation) and dist_violation:\n",
    "            return False # this will be impossible to solve, until, perhaps, x-mirroring is implemented\n",
    "        \n",
    "        if side_violation or dist_violation:\n",
    "            # mirror across the border so that (hopefully) this violation won't happen\n",
    "            carrying_mirror_y = not carrying_mirror_y\n",
    "            side_violation = not side_violation # by definition, changing the mirroring causes a side violation\n",
    "            \n",
    "        mirrored_y_for_rule.append(carrying_mirror_y)\n",
    "        \n",
    "        # check rules again\n",
    "        pre_for_checks = mirrored_pre_point if mirrored_y_for_rule[-2] else pre_point\n",
    "        post_for_checks = mirrored_post_point if mirrored_y_for_rule[-1] else post_point\n",
    "        \n",
    "        \n",
    "        dist_violation = pre_for_checks.dist(post_for_checks) < MIN_DIST_PATH\n",
    "        \n",
    "        if side_violation:\n",
    "            return False\n",
    "        if dist_violation:\n",
    "            return False\n",
    "\n",
    "    return rule_adjacentPairNotSameSide_violations + rule_minDistPath_violations == 0\n",
    "        \n",
    "def generate_valid_shuffle():\n",
    "    shuffle = generate_random_shuffle()\n",
    "    tries = 1\n",
    "    while not is_valid_shuffle(shuffle):\n",
    "        shuffle = generate_random_shuffle()\n",
    "        tries += 1\n",
    "    print(f\"====== {tries} =====\")\n",
    "    return shuffle"
   ]
  },
  {
   "cell_type": "code",
   "execution_count": 145,
   "metadata": {
    "scrolled": false
   },
   "outputs": [
    {
     "name": "stdout",
     "output_type": "stream",
     "text": [
      "0\n",
      "====== 47563 =====\n",
      "0\n",
      "====== 13484 =====\n",
      "0\n",
      "====== 67749 =====\n",
      "0\n",
      "====== 19543 =====\n",
      "0\n",
      "====== 61782 =====\n",
      "0\n",
      "====== 87498 =====\n",
      "0\n",
      "====== 11506 =====\n",
      "0\n",
      "====== 61801 =====\n",
      "0\n",
      "====== 227879 =====\n",
      "0\n",
      "====== 21701 =====\n",
      "0\n",
      "====== 181809 =====\n",
      "0\n",
      "====== 123734 =====\n",
      "0\n",
      "====== 37537 =====\n",
      "0\n",
      "====== 17459 =====\n",
      "0\n",
      "====== 14218 =====\n",
      "0\n",
      "====== 61082 =====\n",
      "0\n",
      "====== 35978 =====\n",
      "0\n",
      "====== 545 =====\n",
      "0\n",
      "====== 19562 =====\n",
      "0\n",
      "====== 145601 =====\n",
      "0\n",
      "====== 73249 =====\n",
      "0\n",
      "====== 4632 =====\n",
      "0\n",
      "====== 50759 =====\n",
      "0\n",
      "====== 41871 =====\n",
      "0\n",
      "====== 115367 =====\n",
      "19.25.14.4\n",
      "3.0.32.6.6\n",
      "35.20.6.28\n",
      "0.24.33.7.\n",
      "28.24.9.36\n",
      "29.12.26.3\n",
      "3.23.36.17\n",
      "21.31.14.3\n",
      "8.2.10.10.\n",
      "36.22.24.3\n",
      "3.13.17.36\n",
      "24.0.34.11\n",
      "30.12.11.2\n",
      "5.1.26.12.\n",
      "36.28.11.1\n",
      "23.32.7.6.\n",
      "11.19.37.1\n",
      "5.21.38.5.\n",
      "20.9.7.16.\n",
      "0.14.13.23\n",
      "35.34.0.25\n",
      "29.3.7.37.\n",
      "5.28.19.39\n",
      "13.37.16.2\n",
      "22.37.13.2\n"
     ]
    }
   ],
   "source": [
    "shuffles = [generate_valid_shuffle() for i in range(25)]\n",
    "print(\"\\n\".join([\".\".join([str(c) for c in shuf])[:10]  for shuf in shuffles]))"
   ]
  },
  {
   "cell_type": "markdown",
   "metadata": {},
   "source": [
    "## Checks\n",
    "\n",
    "- We make sure that apmprox. half the pairs happen in A->B, and the other half happens in B->A\n",
    "- We want to check the number of objects within the same side across a sliding window of 5 trials."
   ]
  },
  {
   "cell_type": "markdown",
   "metadata": {},
   "source": [
    "# Objects\n",
    "- 5 different shapes (circle, cube, cylinder, pyramid, star)\n",
    "- 5 different colors from a color-blind-friendly palette.\n",
    "-> 25 different combinations.\n",
    "\n",
    "Any object generated must not have been in the last 10 shown object."
   ]
  }
 ],
 "metadata": {
  "kernelspec": {
   "display_name": "Python 3",
   "language": "python",
   "name": "python3"
  },
  "language_info": {
   "codemirror_mode": {
    "name": "ipython",
    "version": 3
   },
   "file_extension": ".py",
   "mimetype": "text/x-python",
   "name": "python",
   "nbconvert_exporter": "python",
   "pygments_lexer": "ipython3",
   "version": "3.7.0"
  }
 },
 "nbformat": 4,
 "nbformat_minor": 4
}

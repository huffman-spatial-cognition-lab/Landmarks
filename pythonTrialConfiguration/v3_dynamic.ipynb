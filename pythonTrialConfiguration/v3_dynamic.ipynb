{
 "cells": [
  {
   "cell_type": "code",
   "execution_count": 24,
   "metadata": {},
   "outputs": [],
   "source": [
    "import random\n",
    "import math\n",
    "import matplotlib.pyplot as plt\n",
    "import time\n",
    "import numpy as np\n",
    "from point import Point\n",
    "import json"
   ]
  },
  {
   "cell_type": "markdown",
   "metadata": {},
   "source": [
    "# Load the Layout Pool from Static Generation"
   ]
  },
  {
   "cell_type": "code",
   "execution_count": 31,
   "metadata": {},
   "outputs": [],
   "source": [
    "with open(\"data/static_layout_pool.json\", 'r') as openfile:\n",
    "    json_object = json.load(openfile)\n",
    "\n",
    "WIDTH = json_object[\"width\"]\n",
    "LENGTH = json_object[\"length\"]\n",
    "layouts = [[Point(p[0], p[1]) for p in lay] for lay in json_object[\"layouts\"]]"
   ]
  },
  {
   "cell_type": "markdown",
   "metadata": {},
   "source": [
    "# Dynamic Trial Shuffling\n",
    "- We shuffle the N trials such that the boundary visibility alternates each time.\n",
    "- We read N/2 trials from static generation.\n",
    "- Boundary visibility is alternating, so we simply assume border_visibility = i % 2"
   ]
  },
  {
   "cell_type": "markdown",
   "metadata": {},
   "source": [
    "## Generation\n",
    "\n",
    "- At least K = 5 trials between trials of the same pairing.\n",
    "- We make sure that between adjacent pairs, the ending location and starting location is always opposite.\n",
    "    - Also, make sure these distances obey MIN_DIST_PATH"
   ]
  },
  {
   "cell_type": "code",
   "execution_count": 60,
   "metadata": {},
   "outputs": [],
   "source": [
    "NUM_SHUFFLES = 50\n",
    "DIST_BETWEEN_COPY = 5 # K\n",
    "MIN_DIST_PATH = 1.5\n",
    "LAYOUT_COUNT = len(layouts)"
   ]
  },
  {
   "cell_type": "code",
   "execution_count": 64,
   "metadata": {},
   "outputs": [],
   "source": [
    "def generate_random_shuffle():\n",
    "    # we interleave to random lists of 1...n/2, therefore it is guaranteed that the random shuffling\n",
    "    #is valid for the constraint: boundary visibility alternates each time. each layout gets exactly \n",
    "    #one case with border, exactly one without border\n",
    "    def random_half_shuffle():\n",
    "        l = list(range(len(layouts)))\n",
    "        random.shuffle(l)\n",
    "        return l\n",
    "    \n",
    "    l = [x for t in zip(random_half_shuffle(), random_half_shuffle()) for x in t]\n",
    "    return l\n",
    "\n",
    "def is_valid_shuffle(order):\n",
    "    # At least K = 5 trials between trials of the same pairing.\n",
    "    # since we generate this as half and half, we only need to check the first and last K elements\n",
    "    K = DIST_BETWEEN_COPY\n",
    "    for i in range(K, len(order)):\n",
    "        if order[i] in order[i-K:i]:\n",
    "            #print(\"----\", i, K, order[i], order[i-K:i])\n",
    "            return False\n",
    "    \n",
    "    # each pair gets one occurence with border, one occurence without border\n",
    "    # as a property of generate_random_shuffle, therefore we do not test for it.\n",
    "    \n",
    "    #TODO: We make sure that between adjacent pairs, the ending location and starting location is always opposite.\n",
    "    #TODO: Also, make sure these distances obey MIN_DIST_PATH\n",
    "    \n",
    "    rule_adjacentPairNotSameSide_violations = 0\n",
    "    rule_minDistPath_violations = 0\n",
    "    for i in range(len(order) - 1):\n",
    "        pre_point = layouts[order[i]][-1]\n",
    "        post_point = layouts[order[i+1]][0]\n",
    "        \n",
    "        pre_side = pre_point.y < LENGTH/2\n",
    "        post_side = post_point.y < LENGTH/2\n",
    "        \n",
    "        if pre_side == post_side:\n",
    "            rule_adjacentPairNotSameSide_violations += 1\n",
    "            \n",
    "        if pre_point.dist(post_point) < MIN_DIST_PATH:\n",
    "            rule_minDistPath_violations += 1\n",
    "        \n",
    "    print(\"*\" * 15,rule_adjacentPairNotSameSide_violations, \"-\" * 5 , rule_minDistPath_violations, \"*\"*15)\n",
    "    # rule_adjacentPairNotSameSide_violations -> could we mirror the layouts to satisfy this constraint?\n",
    "    # rule_minDistPath_violations -> could we mirror on x-axis or maybe a acceptable lower bound?\n",
    "    return True\n",
    "        \n",
    "def generate_valid_shuffle():\n",
    "    shuffle = generate_random_shuffle()\n",
    "    print(shuffle)\n",
    "    while not is_valid_shuffle(shuffle):\n",
    "        shuffle = generate_random_shuffle()\n",
    "    return shuffle"
   ]
  },
  {
   "cell_type": "code",
   "execution_count": 65,
   "metadata": {},
   "outputs": [
    {
     "name": "stdout",
     "output_type": "stream",
     "text": [
      "[17, 47, 43, 45, 39, 48, 4, 30, 10, 10, 35, 25, 32, 23, 2, 28, 45, 46, 48, 36, 22, 41, 46, 9, 1, 13, 36, 49, 33, 34, 26, 2, 12, 35, 14, 32, 40, 12, 16, 33, 3, 17, 27, 0, 29, 7, 19, 38, 41, 16, 6, 3, 21, 40, 7, 11, 38, 18, 9, 4, 15, 14, 49, 31, 28, 39, 44, 26, 23, 8, 8, 1, 25, 27, 24, 42, 42, 24, 37, 43, 30, 19, 13, 6, 47, 15, 20, 22, 31, 37, 0, 20, 5, 5, 34, 21, 18, 44, 11, 29]\n",
      "*************** 43 ----- 8 ***************\n"
     ]
    },
    {
     "data": {
      "text/plain": [
       "[[12,\n",
       "  6,\n",
       "  46,\n",
       "  38,\n",
       "  41,\n",
       "  24,\n",
       "  11,\n",
       "  4,\n",
       "  40,\n",
       "  8,\n",
       "  35,\n",
       "  21,\n",
       "  15,\n",
       "  10,\n",
       "  32,\n",
       "  45,\n",
       "  23,\n",
       "  28,\n",
       "  26,\n",
       "  46,\n",
       "  18,\n",
       "  34,\n",
       "  1,\n",
       "  20,\n",
       "  47,\n",
       "  35,\n",
       "  24,\n",
       "  32,\n",
       "  14,\n",
       "  42,\n",
       "  9,\n",
       "  43,\n",
       "  39,\n",
       "  25,\n",
       "  13,\n",
       "  30,\n",
       "  3,\n",
       "  0,\n",
       "  33,\n",
       "  36,\n",
       "  22,\n",
       "  14,\n",
       "  37,\n",
       "  23,\n",
       "  21,\n",
       "  3,\n",
       "  6,\n",
       "  1,\n",
       "  43,\n",
       "  17,\n",
       "  36,\n",
       "  47,\n",
       "  4,\n",
       "  13,\n",
       "  19,\n",
       "  37,\n",
       "  2,\n",
       "  41,\n",
       "  31,\n",
       "  18,\n",
       "  38,\n",
       "  29,\n",
       "  28,\n",
       "  15,\n",
       "  27,\n",
       "  5,\n",
       "  49,\n",
       "  48,\n",
       "  30,\n",
       "  16,\n",
       "  44,\n",
       "  27,\n",
       "  42,\n",
       "  7,\n",
       "  45,\n",
       "  22,\n",
       "  8,\n",
       "  11,\n",
       "  48,\n",
       "  33,\n",
       "  10,\n",
       "  19,\n",
       "  20,\n",
       "  2,\n",
       "  17,\n",
       "  49,\n",
       "  16,\n",
       "  9,\n",
       "  7,\n",
       "  44,\n",
       "  5,\n",
       "  40,\n",
       "  29,\n",
       "  31,\n",
       "  34,\n",
       "  26,\n",
       "  0,\n",
       "  39,\n",
       "  25,\n",
       "  12]]"
      ]
     },
     "execution_count": 65,
     "metadata": {},
     "output_type": "execute_result"
    }
   ],
   "source": [
    "shuffles = [generate_valid_shuffle() for i in range(1)]\n",
    "shuffles"
   ]
  },
  {
   "cell_type": "markdown",
   "metadata": {},
   "source": [
    "## Checks\n",
    "\n",
    "- We make sure that apmprox. half the pairs happen in A->B, and the other half happens in B->A\n",
    "- We want to check the number of objects within the same side across a sliding window of 5 trials."
   ]
  },
  {
   "cell_type": "markdown",
   "metadata": {},
   "source": [
    "# Objects\n",
    "- 5 different shapes (circle, cube, cylinder, pyramid, star)\n",
    "- 5 different colors from a color-blind-friendly palette.\n",
    "-> 25 different combinations.\n",
    "\n",
    "Any object generated must not have been in the last 10 shown object."
   ]
  },
  {
   "cell_type": "code",
   "execution_count": null,
   "metadata": {},
   "outputs": [],
   "source": []
  }
 ],
 "metadata": {
  "kernelspec": {
   "display_name": "Python 3",
   "language": "python",
   "name": "python3"
  },
  "language_info": {
   "codemirror_mode": {
    "name": "ipython",
    "version": 3
   },
   "file_extension": ".py",
   "mimetype": "text/x-python",
   "name": "python",
   "nbconvert_exporter": "python",
   "pygments_lexer": "ipython3",
   "version": "3.7.0"
  }
 },
 "nbformat": 4,
 "nbformat_minor": 4
}

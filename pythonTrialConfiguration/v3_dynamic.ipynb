{
 "cells": [
  {
   "cell_type": "code",
   "execution_count": 1,
   "metadata": {},
   "outputs": [],
   "source": [
    "import random\n",
    "import math\n",
    "import matplotlib.pyplot as plt\n",
    "import time\n",
    "import numpy as np\n",
    "from point import Point\n",
    "import json"
   ]
  },
  {
   "cell_type": "markdown",
   "metadata": {},
   "source": [
    "# Load the Layout Pool from Static Generation"
   ]
  },
  {
   "cell_type": "code",
   "execution_count": 2,
   "metadata": {},
   "outputs": [],
   "source": [
    "with open(\"data/static_layout_pool.json\", 'r') as openfile:\n",
    "    json_object = json.load(openfile)\n",
    "\n",
    "layouts = [[Point(p[0], p[1]) for p in lay] for lay in json_object]"
   ]
  },
  {
   "cell_type": "markdown",
   "metadata": {},
   "source": [
    "# Dynamic Trial Shuffling\n",
    "- We shuffle the N trials such that the boundary visibility alternates each time."
   ]
  },
  {
   "cell_type": "markdown",
   "metadata": {},
   "source": [
    "## Generation\n",
    "\n",
    "- At least K = 5 trials between trials of the same pairing.\n",
    "- We make sure that between adjacent pairs, the ending location and starting location is always opposite.\n",
    "    - Also, make sure these distances obey MIN_DIST_PATH"
   ]
  },
  {
   "cell_type": "markdown",
   "metadata": {},
   "source": [
    "## Checks\n",
    "\n",
    "- We make sure that apmprox. half the pairs happen in A->B, and the other half happens in B->A\n",
    "- We want to check the number of objects within the same side across a sliding window of 5 trials."
   ]
  },
  {
   "cell_type": "markdown",
   "metadata": {},
   "source": [
    "# Objects\n",
    "- 5 different shapes (circle, cube, cylinder, pyramid, star)\n",
    "- 5 different colors from a color-blind-friendly palette.\n",
    "-> 25 different combinations.\n",
    "\n",
    "Any object generated must not have been in the last 10 shown object."
   ]
  },
  {
   "cell_type": "code",
   "execution_count": null,
   "metadata": {},
   "outputs": [],
   "source": []
  }
 ],
 "metadata": {
  "kernelspec": {
   "display_name": "Python 3",
   "language": "python",
   "name": "python3"
  },
  "language_info": {
   "codemirror_mode": {
    "name": "ipython",
    "version": 3
   },
   "file_extension": ".py",
   "mimetype": "text/x-python",
   "name": "python",
   "nbconvert_exporter": "python",
   "pygments_lexer": "ipython3",
   "version": "3.7.0"
  }
 },
 "nbformat": 4,
 "nbformat_minor": 4
}

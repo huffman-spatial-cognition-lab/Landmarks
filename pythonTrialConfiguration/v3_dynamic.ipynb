{
 "cells": [
  {
   "cell_type": "code",
   "execution_count": 1,
   "metadata": {},
   "outputs": [],
   "source": [
    "import random\n",
    "import math\n",
    "import matplotlib.pyplot as plt\n",
    "import time\n",
    "import numpy as np\n",
    "from point import Point\n",
    "import json"
   ]
  },
  {
   "cell_type": "markdown",
   "metadata": {},
   "source": [
    "# Load the Layout Pool from Static Generation"
   ]
  },
  {
   "cell_type": "code",
   "execution_count": 2,
   "metadata": {},
   "outputs": [],
   "source": [
    "with open(\"data/static_layout_pool.json\", 'r') as openfile:\n",
    "    json_object = json.load(openfile)\n",
    "\n",
    "WIDTH = json_object[\"width\"]\n",
    "LENGTH = json_object[\"length\"]\n",
    "OUTPUT_FILE = \"../Assets/Resources/json/dynamic.json\"\n",
    "layouts = [[Point(p[0], p[1]) for p in lay] for lay in json_object[\"layouts\"]]\n",
    "OBJECTS = json_object[\"objects\"]"
   ]
  },
  {
   "cell_type": "markdown",
   "metadata": {},
   "source": [
    "## Generation\n",
    "\n",
    "- At least K = 5 trials between trials of the same pairing.\n",
    "- We make sure that between adjacent pairs, the ending location and starting location is always opposite.\n",
    "    - Also, make sure these distances obey MIN_DIST_PATH"
   ]
  },
  {
   "cell_type": "code",
   "execution_count": 3,
   "metadata": {},
   "outputs": [],
   "source": [
    "NUM_SHUFFLES = 50\n",
    "DIST_BETWEEN_COPY = 5 # K\n",
    "MIN_DIST_PATH = 1.5\n",
    "LAYOUT_COUNT = len(layouts)"
   ]
  },
  {
   "cell_type": "code",
   "execution_count": 4,
   "metadata": {},
   "outputs": [],
   "source": [
    "def generate_random_shuffle():\n",
    "    # we interleave to random lists of 1...n/2, therefore it is guaranteed that the random shuffling\n",
    "    #is valid for the constraint: boundary visibility alternates each time. each layout gets exactly \n",
    "    #one case with border, exactly one without border\n",
    "    def random_half_shuffle():\n",
    "        l = list(range(len(layouts)))\n",
    "        random.shuffle(l)\n",
    "        return l\n",
    "    \n",
    "    l = [x for t in zip(random_half_shuffle(), random_half_shuffle()) for x in t]\n",
    "    return l\n",
    "\n",
    "def is_valid_shuffle(order):\n",
    "    # At least K = 5 trials between trials of the same pairing.\n",
    "    # since we generate this as half and half, we only need to check the first and last K elements\n",
    "    K = DIST_BETWEEN_COPY\n",
    "    for i in range(K, len(order)):\n",
    "        if order[i] in order[i-K:i]:\n",
    "            #print(\"----\", i, K, order[i], order[i-K:i])\n",
    "            return False\n",
    "    \n",
    "    # each pair gets one occurence with border, one occurence without border\n",
    "    # as a property of generate_random_shuffle, therefore we do not test for it.\n",
    "    \n",
    "    #TODO: We make sure that between adjacent pairs, the ending location and starting location is always opposite.\n",
    "    #TODO: Also, make sure these distances obey MIN_DIST_PATH\n",
    "    \n",
    "    rule_adjacentPairNotSameSide_violations = 0\n",
    "    rule_minDistPath_violations = 0\n",
    "    mirrored_y_for_rule = [False] # first layout is the anchor, never mirrored\n",
    "    carrying_mirror_y = False\n",
    "    \n",
    "    for i in range(len(order) - 1):\n",
    "        pre_point = layouts[order[i]][-1]\n",
    "        post_point = layouts[order[i+1]][0]\n",
    "\n",
    "        pre_side = pre_point.y < LENGTH/2\n",
    "        post_side = post_point.y < LENGTH/2\n",
    "        \n",
    "        mirrored_pre_point = Point(pre_point.x, LENGTH - pre_point.y)\n",
    "        mirrored_post_point = Point(post_point.x, LENGTH - post_point.y)\n",
    "        \n",
    "        # if there is any violation, try to mirror this next trial\n",
    "        side_violation = pre_side == post_side\n",
    "        dist_violation = (mirrored_pre_point if carrying_mirror_y else pre_point).dist(post_point) < MIN_DIST_PATH\n",
    "        \n",
    "        if (not side_violation) and dist_violation:\n",
    "            return False # this will be impossible to solve, until, perhaps, x-mirroring is implemented\n",
    "        \n",
    "        if side_violation or dist_violation:\n",
    "            # mirror across the border so that (hopefully) this violation won't happen\n",
    "            carrying_mirror_y = not carrying_mirror_y\n",
    "            side_violation = not side_violation # by definition, changing the mirroring causes a side violation\n",
    "            \n",
    "        mirrored_y_for_rule.append(carrying_mirror_y)\n",
    "        \n",
    "        # check rules again\n",
    "        pre_for_checks = mirrored_pre_point if mirrored_y_for_rule[-2] else pre_point\n",
    "        post_for_checks = mirrored_post_point if mirrored_y_for_rule[-1] else post_point\n",
    "        \n",
    "        \n",
    "        dist_violation = pre_for_checks.dist(post_for_checks) < MIN_DIST_PATH\n",
    "        \n",
    "        if side_violation:\n",
    "            return False\n",
    "        if dist_violation:\n",
    "            return False\n",
    "\n",
    "    return rule_adjacentPairNotSameSide_violations + rule_minDistPath_violations == 0\n",
    "        \n",
    "def generate_valid_shuffle():\n",
    "    shuffle = generate_random_shuffle()\n",
    "    tries = 1\n",
    "    while not is_valid_shuffle(shuffle):\n",
    "        shuffle = generate_random_shuffle()\n",
    "        tries += 1\n",
    "    print(f\"====== {tries} =====\")\n",
    "    return shuffle"
   ]
  },
  {
   "cell_type": "code",
   "execution_count": 5,
   "metadata": {
    "scrolled": false
   },
   "outputs": [
    {
     "name": "stdout",
     "output_type": "stream",
     "text": [
      "====== 274452 =====\n",
      "====== 166170 =====\n",
      "====== 446381 =====\n",
      "48.41.20.2\n",
      "11.26.28.2\n",
      "10.45.46.4\n"
     ]
    }
   ],
   "source": [
    "shuffles = [generate_valid_shuffle() for i in range(3)]\n",
    "print(\"\\n\".join([\".\".join([str(c) for c in shuf])[:10]  for shuf in shuffles]))"
   ]
  },
  {
   "cell_type": "code",
   "execution_count": 17,
   "metadata": {},
   "outputs": [
    {
     "data": {
      "text/plain": [
       "500"
      ]
     },
     "execution_count": 17,
     "metadata": {},
     "output_type": "execute_result"
    }
   ],
   "source": [
    "generated_all = []\n",
    "\n",
    "p2xy = lambda p: {\"x\": round(p.x, 3), \"y\": round(p.y, 3)}\n",
    "\n",
    "for shuffle in shuffles:\n",
    "    obj_count = 0\n",
    "    generated_shuffle = []\n",
    "    \n",
    "    for shuffle_i in range(len(shuffle)):\n",
    "        k = shuffle[shuffle_i]\n",
    "        generated_objects = [p2xy(p) for p in layouts[k]]\n",
    "        for obj_i in range(len(generated_objects) - 1):\n",
    "            generated_objects[obj_i][\"object\"] = OBJECTS[obj_count]\n",
    "            obj_count += 1\n",
    "        generated_trial = {\n",
    "            \"targetObjects\": generated_objects,\n",
    "            \"boundaryVisible\": shuffle_i % 2\n",
    "        }\n",
    "        generated_shuffle.append(generated_trial)\n",
    "    generated_all.append(generated_shuffle)\n",
    "    \n",
    "obj_count"
   ]
  },
  {
   "cell_type": "code",
   "execution_count": 18,
   "metadata": {},
   "outputs": [],
   "source": [
    "with open(OUTPUT_FILE, \"w\") as outfile:\n",
    "    outfile.write(json.dumps(generated_all))"
   ]
  },
  {
   "cell_type": "markdown",
   "metadata": {},
   "source": [
    "## Checks\n",
    "\n",
    "- We make sure that apmprox. half the pairs happen in A->B, and the other half happens in B->A\n",
    "- We want to check the number of objects within the same side across a sliding window of 5 trials."
   ]
  },
  {
   "cell_type": "markdown",
   "metadata": {},
   "source": [
    "# Objects\n",
    "- 5 different shapes (circle, cube, cylinder, pyramid, star)\n",
    "- 5 different colors from a color-blind-friendly palette.\n",
    "-> 25 different combinations.\n",
    "\n",
    "Any object generated must not have been in the last 10 shown object."
   ]
  },
  {
   "cell_type": "code",
   "execution_count": null,
   "metadata": {},
   "outputs": [],
   "source": []
  },
  {
   "cell_type": "code",
   "execution_count": null,
   "metadata": {},
   "outputs": [],
   "source": []
  },
  {
   "cell_type": "code",
   "execution_count": null,
   "metadata": {},
   "outputs": [],
   "source": []
  }
 ],
 "metadata": {
  "kernelspec": {
   "display_name": "Python 3",
   "language": "python",
   "name": "python3"
  },
  "language_info": {
   "codemirror_mode": {
    "name": "ipython",
    "version": 3
   },
   "file_extension": ".py",
   "mimetype": "text/x-python",
   "name": "python",
   "nbconvert_exporter": "python",
   "pygments_lexer": "ipython3",
   "version": "3.9.8"
  }
 },
 "nbformat": 4,
 "nbformat_minor": 4
}

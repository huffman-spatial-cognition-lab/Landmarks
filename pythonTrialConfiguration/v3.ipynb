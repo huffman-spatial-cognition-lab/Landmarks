{
 "cells": [
  {
   "cell_type": "markdown",
   "metadata": {},
   "source": [
    "Same pool of trials for all participants (static), with different shuffling (dynamic).\n",
    "\n",
    "---\n",
    "\n",
    "# Static Layout Pool\n",
    "This refers to the generation of the layout pool, which will is the same for ALL participants."
   ]
  },
  {
   "cell_type": "markdown",
   "metadata": {},
   "source": [
    "## Generation\n",
    "\n",
    "- Given N trials, we produce  N/2 pairs of layouts.\n",
    "    - Between these pairs, we keep the same coordinates for the points, and the same order of navigation.\n",
    "    - One of these pairs is the no-boundary-show, the other is the boundary-shown. The layout is rotated between these two.\n",
    "    - Per layout, we have 5 objects and an ending location. The first object is also the starting location and might be asked.\n",
    "    - We do not want any 2 objects to be too close to each other.\n",
    "    - We do not want any path to be too short. We do not have an upper bound on the travel distance.\n",
    "    - We want to to make sure that there is at least one object on boths sides."
   ]
  },
  {
   "cell_type": "markdown",
   "metadata": {},
   "source": [
    "## Checks\n",
    "- We want to check for the following distributions:\n",
    "    - Pointing ground-truths -> compare those in the same side and across the boundary.\n",
    "    - How much they have traveled\n",
    "    - Distances between any two objects"
   ]
  },
  {
   "cell_type": "markdown",
   "metadata": {},
   "source": [
    "# Dynamic Trial Shuffling\n",
    "- We shuffle the N trials such that the boundary visibility alternates each time."
   ]
  },
  {
   "cell_type": "markdown",
   "metadata": {},
   "source": [
    "## Checks\n",
    "\n",
    "- At least K = 5 trials between trials of the same pairing.\n",
    "- We make sure that approx. half the pairs happen in A->B, and the other half happens in B->A\n",
    "- We make sure that between adjacent pairs, the ending location and starting location is always opposite.\n",
    "- We want to check the number of objects within the same cells across a sliding window of 5 trials."
   ]
  },
  {
   "cell_type": "markdown",
   "metadata": {},
   "source": [
    "# Objects\n",
    "- 5 different shapes (circle, cube, cylinder, pyramid, star)\n",
    "- 5 different colors from a color-blind-friendly palette.\n",
    "-> 25 different combinations.\n",
    "\n",
    "Any object generated must not have been in the last 10 shown object."
   ]
  },
  {
   "cell_type": "code",
   "execution_count": null,
   "metadata": {},
   "outputs": [],
   "source": []
  }
 ],
 "metadata": {
  "kernelspec": {
   "display_name": "Python 3",
   "language": "python",
   "name": "python3"
  },
  "language_info": {
   "codemirror_mode": {
    "name": "ipython",
    "version": 3
   },
   "file_extension": ".py",
   "mimetype": "text/x-python",
   "name": "python",
   "nbconvert_exporter": "python",
   "pygments_lexer": "ipython3",
   "version": "3.8.5"
  }
 },
 "nbformat": 4,
 "nbformat_minor": 4
}

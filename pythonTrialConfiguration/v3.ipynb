{
 "cells": [
  {
   "cell_type": "code",
   "execution_count": 1,
   "metadata": {},
   "outputs": [],
   "source": [
    "import random\n",
    "import math\n",
    "import matplotlib.pyplot as plt\n",
    "import time\n",
    "import numpy as np\n",
    "from point import Point"
   ]
  },
  {
   "cell_type": "markdown",
   "metadata": {},
   "source": [
    "Same pool of trials for all participants (static), with different shuffling (dynamic).\n",
    "\n",
    "---\n",
    "\n",
    "# Static Layout Pool\n",
    "This refers to the generation of the layout pool, which will is the same for ALL participants."
   ]
  },
  {
   "cell_type": "markdown",
   "metadata": {},
   "source": [
    "## Generation\n",
    "\n",
    "- Given N trials, we produce  N/2 pairs of layouts.\n",
    "    - Between these pairs, we keep the same coordinates for the points, and the same order of navigation.\n",
    "    - One of these pairs is the no-boundary-show, the other is the boundary-shown. The layout is rotated between these two.\n",
    "    - Per layout, we have 5 objects and an ending location. The first object is also the starting location and might be asked.\n",
    "    - We do not want any 2 objects to be too close to each other.\n",
    "    - We do not want any path to be too short. We do not have an upper bound on the travel distance.\n",
    "    - We want to to make sure that there is at least one object on both sides."
   ]
  },
  {
   "cell_type": "code",
   "execution_count": 2,
   "metadata": {},
   "outputs": [],
   "source": [
    "N_POINTS_LAYOUT = 6 # 5 objects, one of which is the starting location, and an ending location\n",
    "N_LAYOUTS = 50 # generate this many layouts. each layout produces a pair (visible/invisible boundary)\n",
    "\n",
    "# these are currently arbitrary units that we can scale up and down as needed\n",
    "# w=5, l=10 represents a 1 by 2 rectangle room\n",
    "WIDTH = 5 \n",
    "LENGTH = 10\n",
    "\n",
    "# this is the minimum distance any two objects (not a path) can have. \n",
    "# used to prevent objects appearing too close and confusing participants\n",
    "MIN_DIST_OBJECTS = 1.5\n",
    "\n",
    "# this is the minimum path distance. no subsequent object should appear closer than this.\n",
    "# greater than MIN_DIST_OBJECTS because objects appearing too close also means they are visited too soon and not enough time to learn that object\n",
    "MIN_DIST_PATH = 2.3"
   ]
  },
  {
   "cell_type": "code",
   "execution_count": 5,
   "metadata": {},
   "outputs": [],
   "source": [
    "def generate_random_layout():\n",
    "    return [Point.random_rect(WIDTH, LENGTH) for p in range(N_POINTS_LAYOUT)]\n",
    "\n",
    "def is_valid_layout(lay):\n",
    "    \n",
    "    # check all distance constraints, (dist between objects and path distances)\n",
    "    for i in range(len(lay)):\n",
    "        for j in range(i):\n",
    "            # if these points are adjacent, check for path distance condition, otherwise object distance condition\n",
    "            lower_bound = MIN_DIST_PATH if j == i - 1 else MIN_DIST_OBJECTS\n",
    "            if lay[i].dist(lay[j]) <= lower_bound:\n",
    "                return False\n",
    "    \n",
    "    # check that there is at least one object on each side\n",
    "    # note that this checks for objects ONLY (that is; not the last point which is the ending/task location)\n",
    "    objects_on_lower_side = sum([1 if l.y < LENGTH / 2 else 0 for l in lay[:N_POINTS_LAYOUT-1]])\n",
    "    if not ( 1 <= objects_on_lower_side < N_POINTS_LAYOUT-1):\n",
    "        # either 0 or N_POINTS_LAYOUT-1 on this side, which means the reverse for the other side. not valid!\n",
    "        return False\n",
    "            \n",
    "    return True\n",
    "\n",
    "def generate_valid_layout():\n",
    "    candidate = generate_random_layout()\n",
    "    c = 0\n",
    "    while not is_valid_layout(candidate):\n",
    "        c += 1\n",
    "        if c == 1e5:\n",
    "            print(\"can not find valid layout!\")\n",
    "            return None\n",
    "        candidate = generate_random_layout()\n",
    "    return candidate"
   ]
  },
  {
   "cell_type": "code",
   "execution_count": 15,
   "metadata": {},
   "outputs": [],
   "source": [
    "layouts = []\n",
    "for l in range(N_LAYOUTS):\n",
    "    layouts.append(generate_valid_layout())"
   ]
  },
  {
   "cell_type": "code",
   "execution_count": 16,
   "metadata": {},
   "outputs": [
    {
     "name": "stdout",
     "output_type": "stream",
     "text": [
      "[[P(1.23, 9.32), P(4.6, 7.5), P(0.41, 2.25), P(2.59, 1.01), P(3.7, 9.45), P(3.03, 5.01)], [P(0.02, 6.27), P(3.96, 3.23), P(3.07, 7.64), P(3.23, 0.96), P(4.02, 5.28), P(4.67, 9.28)], [P(4.67, 3.0), P(0.22, 5.14), P(3.16, 0.1), P(0.62, 8.39), P(1.14, 2.46), P(3.83, 9.65)], [P(4.04, 2.22), P(0.08, 7.43), P(4.06, 7.17), P(1.06, 3.18), P(3.54, 0.29), P(2.13, 8.45)], [P(4.41, 5.4), P(2.14, 0.54), P(0.61, 5.07), P(3.67, 1.27), P(0.15, 9.3), P(2.32, 2.43)], [P(0.95, 4.24), P(0.45, 7.9), P(2.48, 5.24), P(3.47, 9.04), P(1.35, 2.32), P(4.55, 4.01)], [P(2.14, 0.47), P(1.16, 2.93), P(2.99, 6.2), P(3.09, 9.82), P(3.51, 2.54), P(1.18, 5.65)], [P(3.17, 4.09), P(1.12, 1.81), P(1.46, 4.74), P(4.78, 1.4), P(0.33, 7.56), P(4.19, 5.41)], [P(2.98, 4.04), P(0.02, 9.05), P(0.65, 2.44), P(1.09, 4.74), P(2.02, 9.61), P(4.13, 0.56)], [P(4.73, 5.58), P(0.2, 9.04), P(3.92, 8.37), P(1.08, 6.49), P(0.98, 1.01), P(4.32, 0.6)], [P(1.32, 6.71), P(2.56, 2.85), P(1.13, 9.87), P(0.6, 0.29), P(4.84, 6.45), P(0.2, 3.32)], [P(0.54, 6.25), P(0.21, 3.89), P(2.35, 9.67), P(3.16, 6.87), P(2.48, 4.11), P(0.79, 2.49)], [P(1.73, 9.3), P(1.96, 6.23), P(4.2, 0.9), P(3.64, 5.29), P(2.43, 1.72), P(0.72, 5.27)], [P(2.21, 8.94), P(0.41, 5.86), P(4.84, 3.55), P(0.75, 0.71), P(0.72, 8.36), P(3.62, 5.81)], [P(3.75, 6.53), P(0.54, 9.33), P(4.81, 4.51), P(0.0, 3.16), P(3.36, 0.8), P(2.36, 2.9)], [P(3.02, 6.24), P(3.89, 1.61), P(3.36, 4.39), P(1.73, 8.34), P(0.71, 1.21), P(4.19, 9.93)], [P(0.12, 1.22), P(0.41, 7.14), P(4.86, 7.91), P(4.45, 1.39), P(3.44, 8.57), P(3.22, 4.64)], [P(4.71, 5.41), P(0.57, 6.46), P(3.83, 8.67), P(1.51, 3.19), P(4.5, 2.71), P(3.08, 5.66)], [P(2.84, 3.51), P(2.62, 6.68), P(0.53, 8.2), P(4.81, 5.52), P(1.2, 9.68), P(1.49, 5.37)], [P(4.51, 9.45), P(3.99, 1.95), P(1.0, 7.44), P(2.6, 4.93), P(0.11, 0.6), P(4.5, 3.56)], [P(3.17, 6.2), P(2.9, 2.48), P(2.94, 8.77), P(0.95, 2.88), P(1.69, 6.77), P(0.25, 9.15)], [P(0.12, 2.92), P(3.09, 8.49), P(4.56, 5.49), P(2.78, 1.11), P(4.85, 8.45), P(0.08, 7.71)], [P(2.17, 5.2), P(4.85, 1.67), P(0.16, 0.36), P(4.02, 8.39), P(4.4, 5.89), P(0.56, 5.25)], [P(4.49, 0.31), P(2.13, 0.26), P(4.04, 6.71), P(0.71, 6.98), P(4.99, 5.5), P(2.15, 4.42)], [P(3.97, 3.78), P(0.32, 0.17), P(4.01, 6.06), P(3.1, 8.75), P(2.79, 2.76), P(2.65, 7.28)], [P(4.6, 3.78), P(2.92, 7.68), P(3.9, 1.28), P(4.52, 9.88), P(2.43, 3.16), P(0.34, 6.36)], [P(2.02, 6.82), P(3.81, 4.04), P(3.16, 8.93), P(3.28, 1.79), P(1.24, 8.28), P(1.96, 2.91)], [P(1.17, 7.33), P(1.67, 3.47), P(3.4, 5.35), P(1.17, 1.85), P(0.44, 5.33), P(4.97, 9.97)], [P(1.45, 6.82), P(3.59, 8.93), P(4.2, 5.91), P(1.37, 0.37), P(4.17, 0.01), P(1.95, 9.18)], [P(0.44, 3.18), P(0.62, 9.98), P(3.25, 0.4), P(1.79, 6.04), P(4.6, 6.95), P(4.59, 9.85)], [P(3.32, 3.95), P(0.89, 5.48), P(4.92, 7.48), P(4.75, 1.14), P(0.48, 3.76), P(2.03, 9.08)], [P(1.34, 5.28), P(2.42, 8.69), P(0.28, 3.64), P(2.14, 1.76), P(0.51, 8.34), P(3.62, 4.26)], [P(0.14, 8.7), P(2.82, 8.55), P(0.37, 6.73), P(3.82, 6.5), P(4.87, 1.17), P(0.49, 4.32)], [P(0.31, 4.63), P(1.76, 2.75), P(1.93, 9.23), P(0.34, 6.84), P(3.02, 0.74), P(3.36, 3.77)], [P(0.22, 1.88), P(3.96, 4.12), P(2.74, 7.38), P(4.77, 9.22), P(1.1, 8.95), P(1.34, 4.56)], [P(4.72, 0.6), P(4.09, 8.32), P(0.07, 0.65), P(2.05, 5.08), P(5.0, 6.72), P(1.01, 8.2)], [P(2.35, 6.5), P(0.11, 1.95), P(3.02, 8.53), P(3.78, 2.1), P(0.98, 4.1), P(0.5, 0.33)], [P(0.6, 4.59), P(4.46, 3.21), P(3.39, 5.73), P(4.83, 1.12), P(4.71, 8.31), P(1.86, 2.88)], [P(2.97, 1.48), P(0.09, 9.77), P(1.7, 7.48), P(2.57, 5.0), P(4.3, 2.61), P(0.38, 3.8)], [P(4.67, 0.04), P(2.62, 8.94), P(2.93, 3.71), P(0.43, 7.84), P(4.11, 7.2), P(0.44, 5.85)], [P(4.71, 1.62), P(1.18, 3.47), P(4.73, 3.25), P(0.9, 6.63), P(3.24, 4.41), P(2.14, 2.27)], [P(4.62, 3.23), P(0.73, 5.09), P(0.74, 8.31), P(4.86, 1.04), P(2.73, 3.74), P(2.28, 9.73)], [P(4.29, 7.05), P(0.86, 5.4), P(3.21, 1.41), P(0.88, 1.24), P(3.11, 5.69), P(0.65, 8.79)], [P(0.16, 0.03), P(3.7, 2.84), P(3.69, 8.1), P(0.06, 8.12), P(0.68, 1.73), P(2.79, 0.09)], [P(4.14, 9.22), P(3.11, 0.57), P(0.47, 9.33), P(4.85, 5.67), P(2.31, 3.47), P(0.12, 0.62)], [P(2.76, 8.81), P(4.85, 1.44), P(0.54, 6.59), P(2.41, 4.48), P(1.67, 1.35), P(3.62, 5.98)], [P(1.82, 3.58), P(3.07, 9.02), P(0.22, 7.87), P(2.22, 5.05), P(2.49, 1.55), P(1.12, 9.15)], [P(4.94, 3.59), P(1.2, 2.82), P(0.08, 6.37), P(2.09, 4.13), P(2.78, 7.27), P(3.02, 2.38)], [P(4.91, 3.85), P(0.81, 4.33), P(0.28, 0.88), P(2.24, 6.25), P(4.15, 8.89), P(0.58, 9.06)], [P(3.83, 8.19), P(3.32, 2.8), P(2.2, 4.84), P(0.36, 3.11), P(2.01, 8.97), P(0.16, 1.12)]]\n"
     ]
    }
   ],
   "source": [
    "print(layouts)"
   ]
  },
  {
   "cell_type": "markdown",
   "metadata": {},
   "source": [
    "## Checks\n",
    "- We want to check for the following distributions:\n",
    "    - Pointing ground-truths -> compare those in the same side and across the boundary.\n",
    "    - How much they have traveled\n",
    "    - Distances between any two objects"
   ]
  },
  {
   "cell_type": "markdown",
   "metadata": {},
   "source": [
    "# Dynamic Trial Shuffling\n",
    "- We shuffle the N trials such that the boundary visibility alternates each time."
   ]
  },
  {
   "cell_type": "markdown",
   "metadata": {},
   "source": [
    "## Checks\n",
    "\n",
    "- At least K = 5 trials between trials of the same pairing.\n",
    "- We make sure that approx. half the pairs happen in A->B, and the other half happens in B->A\n",
    "- We make sure that between adjacent pairs, the ending location and starting location is always opposite.\n",
    "- We want to check the number of objects within the same cells across a sliding window of 5 trials."
   ]
  },
  {
   "cell_type": "markdown",
   "metadata": {},
   "source": [
    "# Objects\n",
    "- 5 different shapes (circle, cube, cylinder, pyramid, star)\n",
    "- 5 different colors from a color-blind-friendly palette.\n",
    "-> 25 different combinations.\n",
    "\n",
    "Any object generated must not have been in the last 10 shown object."
   ]
  },
  {
   "cell_type": "code",
   "execution_count": null,
   "metadata": {},
   "outputs": [],
   "source": []
  }
 ],
 "metadata": {
  "kernelspec": {
   "display_name": "Python 3",
   "language": "python",
   "name": "python3"
  },
  "language_info": {
   "codemirror_mode": {
    "name": "ipython",
    "version": 3
   },
   "file_extension": ".py",
   "mimetype": "text/x-python",
   "name": "python",
   "nbconvert_exporter": "python",
   "pygments_lexer": "ipython3",
   "version": "3.8.5"
  }
 },
 "nbformat": 4,
 "nbformat_minor": 4
}

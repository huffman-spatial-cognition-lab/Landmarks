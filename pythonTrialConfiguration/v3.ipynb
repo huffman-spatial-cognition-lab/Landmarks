{
 "cells": [
  {
   "cell_type": "code",
   "execution_count": 1,
   "metadata": {},
   "outputs": [],
   "source": [
    "import random\n",
    "import math\n",
    "import matplotlib.pyplot as plt\n",
    "import time\n",
    "import numpy as np\n",
    "from point import Point"
   ]
  },
  {
   "cell_type": "markdown",
   "metadata": {},
   "source": [
    "Same pool of trials for all participants (static), with different shuffling (dynamic).\n",
    "\n",
    "---\n",
    "\n",
    "# Static Layout Pool\n",
    "This refers to the generation of the layout pool, which will is the same for ALL participants."
   ]
  },
  {
   "cell_type": "markdown",
   "metadata": {},
   "source": [
    "## Generation\n",
    "\n",
    "- Given N trials, we produce  N/2 pairs of layouts.\n",
    "    - Between these pairs, we keep the same coordinates for the points, and the same order of navigation.\n",
    "    - One of these pairs is the no-boundary-show, the other is the boundary-shown. The layout is rotated between these two.\n",
    "    - Per layout, we have 5 objects and an ending location. The first object is also the starting location and might be asked.\n",
    "    - We do not want any 2 objects to be too close to each other.\n",
    "    - We do not want any path to be too short. We do not have an upper bound on the travel distance.\n",
    "    - We want to to make sure that there is at least one object on both sides."
   ]
  },
  {
   "cell_type": "code",
   "execution_count": 2,
   "metadata": {},
   "outputs": [],
   "source": [
    "N_POINTS_LAYOUT = 6 # 5 objects, one of which is the starting location, and an ending location\n",
    "N_LAYOUTS = 50 # generate this many layouts. each layout produces a pair (visible/invisible boundary)\n",
    "\n",
    "# these are currently arbitrary units that we can scale up and down as needed\n",
    "# w=5, l=10 represents a 1 by 2 rectangle room\n",
    "WIDTH = 5 \n",
    "LENGTH = 10\n",
    "\n",
    "# this is the minimum distance any two objects (not a path) can have. \n",
    "# used to prevent objects appearing too close and confusing participants\n",
    "MIN_DIST_OBJECTS = 1.5\n",
    "\n",
    "# this is the minimum path distance. no subsequent object should appear closer than this.\n",
    "# greater than MIN_DIST_OBJECTS because objects appearing too close also means they are visited too soon and not enough time to learn that object\n",
    "MIN_DIST_PATH = 2.3"
   ]
  },
  {
   "cell_type": "code",
   "execution_count": 3,
   "metadata": {},
   "outputs": [],
   "source": [
    "def generate_random_layout():\n",
    "    return [Point.random_rect(WIDTH, LENGTH) for p in range(N_POINTS_LAYOUT)]\n",
    "\n",
    "def is_valid_layout(lay):\n",
    "    \n",
    "    # check all distance constraints, (dist between objects and path distances)\n",
    "    for i in range(len(lay)):\n",
    "        for j in range(i):\n",
    "            # if these points are adjacent, check for path distance condition, otherwise object distance condition\n",
    "            lower_bound = MIN_DIST_PATH if j == i - 1 else MIN_DIST_OBJECTS\n",
    "            if lay[i].dist(lay[j]) <= lower_bound:\n",
    "                return False\n",
    "    \n",
    "    # check that there is at least one object on each side\n",
    "    # note that this checks for objects ONLY (that is; not the last point which is the ending/task location)\n",
    "    objects_on_lower_side = sum([1 if l.y < LENGTH / 2 else 0 for l in lay[:N_POINTS_LAYOUT-1]])\n",
    "    if not ( 1 <= objects_on_lower_side < N_POINTS_LAYOUT-1):\n",
    "        # either 0 or N_POINTS_LAYOUT-1 on this side, which means the reverse for the other side. not valid!\n",
    "        return False\n",
    "            \n",
    "    return True\n",
    "\n",
    "def generate_valid_layout():\n",
    "    candidate = generate_random_layout()\n",
    "    c = 0\n",
    "    while not is_valid_layout(candidate):\n",
    "        c += 1\n",
    "        if c == 1e5:\n",
    "            print(\"can not find valid layout!\")\n",
    "            return None\n",
    "        candidate = generate_random_layout()\n",
    "    return candidate"
   ]
  },
  {
   "cell_type": "code",
   "execution_count": 4,
   "metadata": {},
   "outputs": [],
   "source": [
    "layouts = []\n",
    "for l in range(N_LAYOUTS):\n",
    "    layouts.append(generate_valid_layout())"
   ]
  },
  {
   "cell_type": "code",
   "execution_count": 5,
   "metadata": {
    "scrolled": true
   },
   "outputs": [
    {
     "name": "stdout",
     "output_type": "stream",
     "text": [
      "[[P(2.03, 8.34), P(4.73, 2.85), P(1.09, 2.13), P(3.73, 6.91), P(0.24, 9.47), P(3.83, 8.62)], [P(4.35, 9.13), P(2.47, 4.13), P(4.66, 5.12), P(4.54, 0.86), P(0.35, 5.2), P(3.35, 2.18)], [P(2.76, 10.0), P(0.33, 6.17), P(0.33, 0.93), P(2.74, 4.07), P(3.63, 1.66), P(4.84, 5.3)], [P(0.13, 1.09), P(1.39, 7.14), P(3.09, 9.13), P(0.04, 6.0), P(4.52, 6.62), P(2.36, 2.63)], [P(1.21, 1.36), P(3.8, 4.59), P(3.15, 9.76), P(1.46, 6.24), P(4.17, 0.86), P(2.06, 4.11)], [P(0.41, 9.16), P(3.93, 0.79), P(0.86, 7.43), P(1.51, 1.31), P(2.33, 9.75), P(0.17, 4.69)], [P(0.56, 3.07), P(4.7, 3.19), P(4.76, 6.0), P(3.86, 9.22), P(0.39, 8.59), P(1.79, 1.29)], [P(0.2, 9.32), P(3.73, 9.73), P(0.48, 6.76), P(0.29, 0.31), P(3.09, 0.63), P(1.36, 4.84)], [P(1.26, 9.97), P(3.85, 4.73), P(1.3, 2.87), P(3.18, 0.87), P(0.99, 5.16), P(3.46, 6.78)], [P(0.15, 4.14), P(2.6, 7.38), P(4.49, 9.97), P(1.11, 2.5), P(0.1, 7.84), P(4.38, 4.89)], [P(2.89, 4.13), P(2.9, 7.12), P(2.75, 0.09), P(0.34, 9.35), P(1.05, 6.24), P(1.2, 1.96)], [P(4.18, 5.61), P(0.7, 1.95), P(4.76, 0.53), P(0.56, 3.89), P(1.73, 7.13), P(4.74, 2.08)], [P(3.69, 5.38), P(2.05, 0.25), P(2.82, 4.07), P(1.11, 8.18), P(0.14, 2.49), P(4.3, 1.49)], [P(0.42, 7.04), P(1.61, 0.5), P(3.76, 1.56), P(0.33, 2.52), P(4.46, 4.51), P(3.72, 7.35)], [P(3.47, 9.98), P(0.13, 1.57), P(4.64, 8.7), P(4.12, 2.25), P(3.48, 7.34), P(0.28, 8.52)], [P(1.38, 0.66), P(1.24, 6.56), P(4.86, 3.96), P(3.98, 7.94), P(1.26, 8.92), P(1.92, 2.3)], [P(2.89, 4.45), P(2.43, 8.74), P(2.98, 6.16), P(4.19, 9.66), P(1.28, 1.79), P(4.98, 0.99)], [P(5.0, 2.28), P(2.0, 8.67), P(3.19, 0.43), P(3.93, 5.65), P(0.09, 2.46), P(2.86, 2.46)], [P(2.77, 8.85), P(2.79, 3.82), P(0.71, 5.4), P(3.9, 5.97), P(3.33, 0.75), P(2.14, 6.79)], [P(3.27, 6.09), P(0.58, 5.85), P(0.34, 0.23), P(3.26, 1.8), P(0.44, 3.93), P(2.76, 9.52)], [P(1.67, 0.53), P(4.74, 0.16), P(3.66, 9.84), P(3.93, 2.93), P(2.67, 7.24), P(0.01, 2.73)], [P(0.81, 3.99), P(4.01, 3.41), P(2.91, 6.99), P(1.93, 2.19), P(0.85, 9.78), P(1.25, 5.79)], [P(1.78, 7.1), P(0.2, 4.03), P(0.69, 1.04), P(2.45, 8.97), P(2.44, 1.62), P(3.45, 6.05)], [P(1.18, 4.97), P(1.94, 8.57), P(2.36, 6.16), P(2.7, 2.11), P(0.32, 0.01), P(4.03, 4.44)], [P(2.6, 5.32), P(3.59, 0.08), P(3.98, 2.94), P(3.97, 9.03), P(0.26, 0.29), P(1.57, 3.22)], [P(0.23, 1.67), P(2.6, 9.06), P(3.64, 2.55), P(4.83, 5.74), P(0.06, 8.85), P(2.47, 5.12)], [P(4.46, 8.69), P(0.72, 0.04), P(2.33, 1.73), P(0.55, 8.68), P(3.95, 4.88), P(0.18, 1.46)], [P(2.04, 6.42), P(2.62, 9.35), P(1.57, 1.17), P(1.05, 9.24), P(4.19, 1.32), P(4.1, 6.62)], [P(4.41, 3.64), P(2.1, 4.71), P(4.03, 6.43), P(1.77, 9.81), P(0.6, 1.3), P(2.79, 8.03)], [P(4.26, 7.71), P(0.94, 0.88), P(4.08, 1.44), P(2.67, 3.68), P(4.07, 5.85), P(1.23, 8.55)], [P(3.94, 3.45), P(3.97, 9.65), P(2.54, 0.01), P(2.26, 7.52), P(3.69, 5.05), P(0.11, 6.8)], [P(3.7, 9.82), P(0.42, 7.16), P(0.27, 1.99), P(2.06, 4.91), P(2.1, 9.27), P(0.28, 4.52)], [P(3.28, 3.01), P(4.73, 0.99), P(3.78, 5.21), P(0.66, 3.09), P(2.66, 8.37), P(1.35, 1.13)], [P(3.64, 5.07), P(4.6, 8.76), P(2.15, 5.55), P(3.86, 7.24), P(0.0, 2.81), P(2.51, 2.16)], [P(0.79, 5.61), P(4.66, 7.18), P(0.33, 4.09), P(1.61, 9.73), P(2.8, 1.95), P(0.11, 0.82)], [P(3.65, 4.91), P(0.65, 2.45), P(0.03, 5.61), P(2.5, 0.3), P(4.01, 7.02), P(4.77, 3.75)], [P(4.98, 7.59), P(3.05, 1.99), P(0.98, 6.12), P(0.77, 9.38), P(2.98, 8.72), P(0.31, 3.55)], [P(4.09, 8.44), P(0.19, 4.82), P(3.66, 1.58), P(1.59, 5.58), P(0.43, 0.45), P(1.35, 8.82)], [P(1.7, 1.33), P(2.43, 6.12), P(4.62, 8.66), P(3.73, 0.97), P(1.05, 7.02), P(0.78, 4.59)], [P(3.88, 8.52), P(0.14, 6.69), P(2.71, 2.47), P(4.22, 4.55), P(4.75, 1.42), P(0.78, 0.86)], [P(1.73, 1.08), P(4.37, 3.14), P(2.9, 5.88), P(1.11, 4.32), P(3.9, 1.51), P(2.39, 9.52)], [P(3.26, 6.52), P(2.04, 1.91), P(0.95, 9.54), P(4.0, 0.76), P(2.77, 9.56), P(1.32, 0.34)], [P(3.4, 9.49), P(0.41, 0.55), P(0.07, 5.73), P(3.88, 1.19), P(1.39, 8.36), P(3.69, 4.79)], [P(3.83, 0.28), P(3.32, 4.62), P(0.46, 4.83), P(2.37, 3.19), P(3.45, 6.59), P(2.32, 0.18)], [P(3.69, 2.77), P(1.48, 8.72), P(4.4, 8.33), P(0.6, 5.95), P(1.24, 2.12), P(4.56, 5.44)], [P(0.68, 8.68), P(3.03, 3.5), P(1.73, 9.96), P(0.76, 1.38), P(3.61, 9.99), P(1.43, 5.01)], [P(3.5, 4.39), P(1.45, 9.99), P(0.59, 3.06), P(4.38, 0.92), P(2.11, 5.6), P(1.72, 0.73)], [P(2.15, 9.66), P(0.24, 1.95), P(3.79, 4.89), P(0.88, 7.1), P(4.27, 9.08), P(0.63, 3.9)], [P(4.0, 9.04), P(3.53, 3.92), P(4.0, 0.55), P(4.3, 5.57), P(2.75, 2.52), P(2.45, 8.59)], [P(2.08, 5.17), P(4.97, 4.26), P(3.22, 7.29), P(0.4, 9.78), P(2.13, 0.34), P(4.1, 1.72)]]\n"
     ]
    }
   ],
   "source": [
    "print(layouts)"
   ]
  },
  {
   "cell_type": "markdown",
   "metadata": {},
   "source": [
    "## Checks\n",
    "- We want to check for the following distributions:\n",
    "    - Pointing ground-truths -> compare those in the same side and across the boundary.\n",
    "    - How much they have traveled\n",
    "    - Distances between any two objects"
   ]
  },
  {
   "cell_type": "code",
   "execution_count": 25,
   "metadata": {},
   "outputs": [
    {
     "name": "stdout",
     "output_type": "stream",
     "text": [
      "117 same side;  133 across boundary\n"
     ]
    }
   ],
   "source": [
    "# Ground Truth for Pointing Tasks (GTPT)\n",
    "gtpt_same = []\n",
    "gtpt_cross = []\n",
    "\n",
    "for lay in layouts:\n",
    "    last = lay[-1]\n",
    "    last_side = last.y < LENGTH / 2\n",
    "    \n",
    "    for obj in lay[:-1]:\n",
    "        is_on_same_side = last_side == (obj.y < LENGTH / 2)\n",
    "        dist = last.dist(obj)\n",
    "        if is_on_same_side:\n",
    "            gtpt_same.append(dist)\n",
    "        else:\n",
    "            gtpt_cross.append(dist)\n",
    "\n",
    "gtpt_all = [gtpt_same, gtpt_cross]\n",
    "print(len(gtpt_same), \"same side; \", len(gtpt_cross), \"across boundary\")"
   ]
  },
  {
   "cell_type": "code",
   "execution_count": 36,
   "metadata": {},
   "outputs": [
    {
     "data": {
      "image/png": "[encoded data removed]",
      "text/plain": [
       "<Figure size 432x288 with 1 Axes>"
      ]
     },
     "metadata": {
      "needs_background": "light"
     },
     "output_type": "display_data"
    }
   ],
   "source": [
    "plt.hist(gtpt_all, bins = 24, range = [0, max(gtpt_same + gtpt_cross)] ,histtype='step', stacked=True, fill=False, label = [\"Same Side\", \"Across Boundary\"])\n",
    "plt.legend(prop={'size': 10})\n",
    "plt.title(\"Distribution of Pointing Task Ground-Truth Distances by Object Side\")\n",
    "plt.show()"
   ]
  },
  {
   "cell_type": "markdown",
   "metadata": {},
   "source": [
    "# Dynamic Trial Shuffling\n",
    "- We shuffle the N trials such that the boundary visibility alternates each time."
   ]
  },
  {
   "cell_type": "markdown",
   "metadata": {},
   "source": [
    "## Checks\n",
    "\n",
    "- At least K = 5 trials between trials of the same pairing.\n",
    "- We make sure that approx. half the pairs happen in A->B, and the other half happens in B->A\n",
    "- We make sure that between adjacent pairs, the ending location and starting location is always opposite.\n",
    "- We want to check the number of objects within the same cells across a sliding window of 5 trials."
   ]
  },
  {
   "cell_type": "markdown",
   "metadata": {},
   "source": [
    "# Objects\n",
    "- 5 different shapes (circle, cube, cylinder, pyramid, star)\n",
    "- 5 different colors from a color-blind-friendly palette.\n",
    "-> 25 different combinations.\n",
    "\n",
    "Any object generated must not have been in the last 10 shown object."
   ]
  },
  {
   "cell_type": "code",
   "execution_count": null,
   "metadata": {},
   "outputs": [],
   "source": []
  }
 ],
 "metadata": {
  "kernelspec": {
   "display_name": "Python 3",
   "language": "python",
   "name": "python3"
  },
  "language_info": {
   "codemirror_mode": {
    "name": "ipython",
    "version": 3
   },
   "file_extension": ".py",
   "mimetype": "text/x-python",
   "name": "python",
   "nbconvert_exporter": "python",
   "pygments_lexer": "ipython3",
   "version": "3.8.5"
  }
 },
 "nbformat": 4,
 "nbformat_minor": 4
}

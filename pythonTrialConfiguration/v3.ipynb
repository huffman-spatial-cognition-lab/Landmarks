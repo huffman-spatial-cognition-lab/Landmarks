{
 "cells": [
  {
   "cell_type": "code",
   "execution_count": 1,
   "metadata": {},
   "outputs": [],
   "source": [
    "import random\n",
    "import math\n",
    "import matplotlib.pyplot as plt\n",
    "import time\n",
    "import numpy as np\n",
    "from point import Point"
   ]
  },
  {
   "cell_type": "markdown",
   "metadata": {},
   "source": [
    "Same pool of trials for all participants (static), with different shuffling (dynamic).\n",
    "\n",
    "---\n",
    "\n",
    "# Static Layout Pool\n",
    "This refers to the generation of the layout pool, which will is the same for ALL participants."
   ]
  },
  {
   "cell_type": "markdown",
   "metadata": {},
   "source": [
    "## Generation\n",
    "\n",
    "- Given N trials, we produce  N/2 pairs of layouts.\n",
    "    - Between these pairs, we keep the same coordinates for the points, and the same order of navigation.\n",
    "    - One of these pairs is the no-boundary-show, the other is the boundary-shown. The layout is rotated between these two.\n",
    "    - Per layout, we have 5 objects and an ending location. The first object is also the starting location and might be asked.\n",
    "    - We do not want any 2 objects to be too close to each other.\n",
    "    - We do not want any path to be too short. We do not have an upper bound on the travel distance.\n",
    "    - We want to to make sure that there is at least one object on both sides."
   ]
  },
  {
   "cell_type": "code",
   "execution_count": 2,
   "metadata": {},
   "outputs": [],
   "source": [
    "N_POINTS_LAYOUT = 6 # 5 objects, one of which is the starting location, and an ending location\n",
    "N_LAYOUTS = 50 # generate this many layouts. each layout produces a pair (visible/invisible boundary)\n",
    "\n",
    "# these are currently arbitrary units that we can scale up and down as needed\n",
    "# w=5, l=10 represents a 1 by 2 rectangle room\n",
    "WIDTH = 5 \n",
    "LENGTH = 10\n",
    "\n",
    "# this is the minimum distance any two objects (not a path) can have. \n",
    "# used to prevent objects appearing too close and confusing participants\n",
    "MIN_DIST_OBJECTS = 1.5\n",
    "\n",
    "# this is the minimum path distance. no subsequent object should appear closer than this.\n",
    "# greater than MIN_DIST_OBJECTS because objects appearing too close also means they are visited too soon and not enough time to learn that object\n",
    "MIN_DIST_PATH = 2.3"
   ]
  },
  {
   "cell_type": "code",
   "execution_count": 3,
   "metadata": {},
   "outputs": [],
   "source": [
    "def generate_random_layout():\n",
    "    return [Point.random_rect(WIDTH, LENGTH) for p in range(N_POINTS_LAYOUT)]\n",
    "\n",
    "def has_valid_margin(p):\n",
    "    buffer = 0.05\n",
    "    x_lo = buffer * WIDTH\n",
    "    x_hi = (1 - buffer) * WIDTH\n",
    "    \n",
    "    y_lo = buffer * LENGTH\n",
    "    y_hi = (1 - buffer) * LENGTH\n",
    "    \n",
    "    border_lo = (LENGTH / 2) - LENGTH * buffer\n",
    "    border_hi = (LENGTH / 2) + LENGTH * buffer\n",
    "    \n",
    "    bufferFromBoundary = (x_lo < p.x < x_hi) and (y_lo < p.y < y_hi)\n",
    "    bufferFromBorder = not (border_lo < p.y < border_hi)\n",
    "    \n",
    "    return bufferFromBoundary and bufferFromBorder\n",
    "\n",
    "def is_valid_layout(lay):\n",
    "    \n",
    "    # check all distance constraints, (dist between objects and path distances)\n",
    "    for i in range(len(lay)):\n",
    "        for j in range(i):\n",
    "            # if these points are adjacent, check for path distance condition, otherwise object distance condition\n",
    "            lower_bound = MIN_DIST_PATH if j == i - 1 else MIN_DIST_OBJECTS\n",
    "            if lay[i].dist(lay[j]) <= lower_bound:\n",
    "                return False\n",
    "    \n",
    "    # check that there is at least one object on each side\n",
    "    # note that this checks for objects ONLY (that is; not the last point which is the ending/task location)\n",
    "    objects_on_lower_side = sum([1 if l.y < LENGTH / 2 else 0 for l in lay[:N_POINTS_LAYOUT-1]])\n",
    "    if not ( 1 <= objects_on_lower_side < N_POINTS_LAYOUT-1):\n",
    "        # either 0 or N_POINTS_LAYOUT-1 on this side, which means the reverse for the other side. not valid!\n",
    "        return False\n",
    "    \n",
    "    for p in lay:\n",
    "        if not has_valid_margin(p):\n",
    "            return False\n",
    "    \n",
    "    return True\n",
    "\n",
    "def generate_valid_layout():\n",
    "    candidate = generate_random_layout()\n",
    "    c = 0\n",
    "    while not is_valid_layout(candidate):\n",
    "        c += 1\n",
    "        if c == 1e5:\n",
    "            print(\"can not find valid layout!\")\n",
    "            return None\n",
    "        candidate = generate_random_layout()\n",
    "    return candidate"
   ]
  },
  {
   "cell_type": "code",
   "execution_count": 4,
   "metadata": {},
   "outputs": [],
   "source": [
    "layouts = []\n",
    "for l in range(N_LAYOUTS):\n",
    "    layouts.append(generate_valid_layout())"
   ]
  },
  {
   "cell_type": "code",
   "execution_count": 5,
   "metadata": {
    "scrolled": true
   },
   "outputs": [
    {
     "name": "stdout",
     "output_type": "stream",
     "text": [
      "[[P(0.8, 6.48), P(2.89, 3.28), P(3.64, 9.37), P(0.75, 3.23), P(2.61, 6.7), P(4.52, 0.53)], [P(1.09, 8.17), P(4.53, 0.59), P(2.53, 2.49), P(2.4, 7.01), P(0.84, 2.51), P(4.07, 8.73)], [P(4.06, 5.97), P(0.45, 5.94), P(3.37, 7.69), P(0.67, 1.79), P(3.41, 3.68), P(2.38, 1.43)], [P(1.39, 1.8), P(3.81, 6.31), P(0.34, 5.97), P(2.53, 3.33), P(4.56, 0.85), P(3.9, 7.81)], [P(4.56, 6.54), P(2.09, 5.92), P(4.67, 0.81), P(1.47, 0.98), P(4.18, 4.25), P(0.75, 3.84)], [P(3.11, 9.17), P(0.91, 2.37), P(2.66, 3.87), P(0.99, 8.52), P(4.69, 3.31), P(3.08, 0.66)], [P(0.52, 1.14), P(0.78, 6.52), P(4.74, 4.24), P(1.82, 7.78), P(3.91, 5.93), P(2.13, 2.71)], [P(2.78, 2.44), P(0.66, 8.89), P(0.91, 5.59), P(1.01, 2.0), P(4.45, 8.4), P(3.25, 6.42)], [P(3.44, 4.49), P(3.04, 7.01), P(2.42, 0.79), P(4.62, 6.26), P(0.56, 4.33), P(4.06, 2.01)], [P(1.6, 9.31), P(3.99, 6.27), P(4.11, 9.47), P(1.27, 6.51), P(4.21, 2.14), P(1.84, 0.87)], [P(3.66, 8.42), P(1.55, 2.52), P(4.29, 4.48), P(1.87, 5.55), P(4.72, 0.58), P(0.57, 6.63)], [P(1.3, 8.89), P(3.21, 1.88), P(0.65, 3.56), P(4.08, 6.88), P(1.69, 7.14), P(1.08, 1.31)], [P(0.27, 2.6), P(4.2, 2.24), P(0.44, 9.31), P(1.15, 6.65), P(2.49, 3.29), P(4.71, 6.44)], [P(4.48, 2.94), P(3.8, 6.27), P(0.5, 1.79), P(3.59, 7.76), P(0.91, 3.6), P(2.09, 8.6)], [P(4.21, 1.93), P(4.74, 8.45), P(2.7, 1.6), P(1.8, 9.05), P(3.48, 4.37), P(1.1, 1.63)], [P(3.42, 0.98), P(1.09, 0.72), P(4.43, 2.25), P(0.91, 6.16), P(1.15, 9.09), P(4.67, 9.21)], [P(1.69, 1.7), P(0.78, 4.01), P(0.76, 7.25), P(4.57, 3.63), P(4.38, 8.18), P(3.21, 6.11)], [P(3.38, 6.09), P(2.76, 1.05), P(1.35, 7.04), P(0.91, 3.75), P(4.72, 2.83), P(0.44, 2.32)], [P(1.15, 4.18), P(1.22, 8.06), P(3.19, 6.71), P(1.61, 1.15), P(3.95, 1.17), P(4.16, 4.23)], [P(2.99, 2.38), P(0.46, 9.02), P(1.0, 3.0), P(3.23, 8.82), P(3.59, 0.98), P(3.68, 3.95)], [P(1.76, 0.9), P(0.8, 7.62), P(4.67, 2.0), P(3.96, 5.97), P(0.45, 3.67), P(2.9, 4.36)], [P(3.47, 4.33), P(1.47, 0.91), P(1.18, 8.46), P(3.45, 7.74), P(1.0, 2.98), P(4.55, 2.19)], [P(2.08, 5.59), P(4.28, 3.95), P(1.27, 8.91), P(4.67, 8.58), P(3.06, 2.99), P(4.6, 0.79)], [P(1.96, 9.41), P(0.57, 3.9), P(3.79, 1.08), P(1.46, 2.02), P(0.94, 6.94), P(3.69, 8.14)], [P(3.78, 7.82), P(2.69, 0.84), P(4.73, 6.31), P(2.09, 3.58), P(0.5, 8.44), P(3.73, 2.54)], [P(4.71, 2.4), P(0.36, 2.53), P(4.31, 9.43), P(3.74, 4.37), P(2.19, 6.14), P(1.13, 0.73)], [P(4.07, 1.51), P(3.82, 9.18), P(1.0, 4.3), P(1.1, 9.02), P(2.86, 6.89), P(1.07, 2.31)], [P(4.73, 1.75), P(2.75, 8.68), P(0.39, 6.41), P(4.29, 8.36), P(2.84, 3.36), P(0.76, 8.73)], [P(4.37, 5.75), P(3.36, 1.05), P(3.94, 9.09), P(0.74, 6.55), P(1.68, 1.25), P(3.79, 7.17)], [P(4.34, 0.97), P(4.45, 5.93), P(4.5, 9.26), P(1.13, 4.43), P(3.34, 3.39), P(2.79, 8.59)], [P(3.94, 3.79), P(2.83, 7.39), P(3.31, 0.73), P(2.79, 9.37), P(0.63, 3.19), P(0.4, 0.69)], [P(1.91, 2.18), P(2.31, 7.13), P(4.17, 2.19), P(0.37, 9.04), P(0.75, 1.13), P(0.66, 6.17)], [P(1.93, 6.2), P(0.48, 2.88), P(3.96, 8.65), P(1.08, 1.45), P(3.78, 0.92), P(0.87, 7.34)], [P(2.21, 4.34), P(3.49, 9.28), P(4.74, 0.51), P(1.2, 6.22), P(4.38, 2.58), P(2.35, 8.0)], [P(0.88, 3.08), P(0.37, 8.67), P(4.3, 2.69), P(4.32, 7.44), P(1.88, 7.13), P(3.53, 9.33)], [P(1.0, 5.64), P(2.88, 4.15), P(4.42, 1.61), P(0.75, 8.32), P(0.59, 0.75), P(3.57, 9.43)], [P(3.49, 7.38), P(0.36, 1.26), P(2.36, 5.6), P(0.52, 2.8), P(4.16, 0.91), P(1.81, 2.02)], [P(1.78, 2.81), P(0.83, 6.2), P(4.39, 5.84), P(3.62, 2.26), P(0.33, 4.16), P(1.87, 8.13)], [P(2.96, 6.18), P(0.51, 8.69), P(0.37, 1.55), P(4.04, 3.34), P(2.16, 9.27), P(0.51, 3.56)], [P(3.64, 0.51), P(0.27, 9.13), P(1.67, 0.9), P(4.6, 5.8), P(1.25, 3.62), P(3.34, 7.37)], [P(0.9, 0.88), P(4.31, 2.23), P(1.88, 5.89), P(1.75, 9.32), P(0.9, 3.33), P(4.39, 8.96)], [P(2.1, 9.32), P(3.51, 3.89), P(0.32, 3.42), P(1.7, 6.16), P(4.11, 8.79), P(2.12, 1.0)], [P(4.26, 2.68), P(1.0, 4.05), P(2.82, 1.11), P(3.05, 6.12), P(4.19, 9.04), P(0.99, 1.15)], [P(2.91, 8.02), P(3.52, 2.58), P(1.01, 6.81), P(2.24, 3.54), P(4.44, 0.6), P(0.35, 2.28)], [P(1.08, 7.78), P(4.08, 7.69), P(1.48, 2.72), P(2.67, 6.85), P(2.71, 1.76), P(1.44, 9.24)], [P(1.72, 7.28), P(0.31, 9.38), P(3.32, 9.22), P(0.88, 3.22), P(0.68, 0.55), P(3.04, 2.03)], [P(2.03, 6.75), P(4.03, 9.22), P(0.75, 0.64), P(4.43, 3.62), P(0.61, 8.84), P(2.49, 1.08)], [P(1.88, 9.47), P(3.74, 1.07), P(0.71, 8.3), P(4.23, 3.77), P(1.13, 4.01), P(1.43, 6.87)], [P(2.34, 1.49), P(4.63, 8.86), P(0.77, 3.06), P(3.09, 9.49), P(2.43, 3.73), P(0.98, 7.33)], [P(1.84, 6.0), P(1.95, 2.1), P(4.75, 8.77), P(1.21, 0.58), P(3.93, 3.54), P(3.87, 5.91)]]\n"
     ]
    }
   ],
   "source": [
    "print(layouts)"
   ]
  },
  {
   "cell_type": "markdown",
   "metadata": {},
   "source": [
    "## Checks\n",
    "- We want to check for the following distributions:\n",
    "    - Pointing ground-truths -> compare those in the same side and across the boundary.\n",
    "    - How much they have traveled\n",
    "    - Distances between any two objects\n",
    "    \n",
    "- And the following are nice sanity checks to have:\n",
    "    - Plot of all layouts\n",
    "    - Plot of all points"
   ]
  },
  {
   "cell_type": "code",
   "execution_count": 6,
   "metadata": {},
   "outputs": [
    {
     "name": "stdout",
     "output_type": "stream",
     "text": [
      "118 same side;  132 across boundary\n"
     ]
    }
   ],
   "source": [
    "# Ground Truth for Pointing Tasks (GTPT)\n",
    "gtpt_same = []\n",
    "gtpt_cross = []\n",
    "\n",
    "for lay in layouts:\n",
    "    last = lay[-1]\n",
    "    last_side = last.y < LENGTH / 2\n",
    "    \n",
    "    for obj in lay[:-1]:\n",
    "        is_on_same_side = last_side == (obj.y < LENGTH / 2)\n",
    "        dist = last.dist(obj)\n",
    "        if is_on_same_side:\n",
    "            gtpt_same.append(dist)\n",
    "        else:\n",
    "            gtpt_cross.append(dist)\n",
    "\n",
    "gtpt_all = [gtpt_same, gtpt_cross]\n",
    "print(len(gtpt_same), \"same side; \", len(gtpt_cross), \"across boundary\")"
   ]
  },
  {
   "cell_type": "code",
   "execution_count": 7,
   "metadata": {},
   "outputs": [
    {
     "name": "stderr",
     "output_type": "stream",
     "text": [
      "/Library/Frameworks/Python.framework/Versions/3.7/lib/python3.7/site-packages/numpy/core/_asarray.py:102: VisibleDeprecationWarning: Creating an ndarray from ragged nested sequences (which is a list-or-tuple of lists-or-tuples-or ndarrays with different lengths or shapes) is deprecated. If you meant to do this, you must specify 'dtype=object' when creating the ndarray.\n",
      "  return array(a, dtype, copy=False, order=order)\n"
     ]
    },
    {
     "data": {
      "image/png": "[encoded data removed]",
      "text/plain": [
       "<Figure size 432x288 with 1 Axes>"
      ]
     },
     "metadata": {
      "needs_background": "light"
     },
     "output_type": "display_data"
    }
   ],
   "source": [
    "plt.hist(gtpt_all, bins = 24, range = [0, max(gtpt_same + gtpt_cross)] ,histtype='step', stacked=True, fill=False, label = [\"Same Side\", \"Across Boundary\"])\n",
    "plt.legend(prop={'size': 10})\n",
    "plt.title(\"Distribution of Pointing Task Ground-Truth Distances by Object Side\")\n",
    "plt.show()"
   ]
  },
  {
   "cell_type": "code",
   "execution_count": 9,
   "metadata": {},
   "outputs": [],
   "source": [
    "# Travel Distance (TD)\n",
    "td_all = []\n",
    "\n",
    "for lay in layouts:\n",
    "    for i in range(len(lay) - 1):\n",
    "        td_all.append(lay[i].dist(lay[i+1]))"
   ]
  },
  {
   "cell_type": "code",
   "execution_count": 15,
   "metadata": {},
   "outputs": [
    {
     "data": {
      "image/png": "[encoded data removed]",
      "text/plain": [
       "<Figure size 432x288 with 1 Axes>"
      ]
     },
     "metadata": {
      "needs_background": "light"
     },
     "output_type": "display_data"
    }
   ],
   "source": [
    "plt.hist(td_all, bins = 24, range = [0, max(td_all)])\n",
    "plt.title(\"Distribution of Travel Distances\")\n",
    "plt.show()"
   ]
  },
  {
   "cell_type": "code",
   "execution_count": 21,
   "metadata": {},
   "outputs": [
    {
     "name": "stdout",
     "output_type": "stream",
     "text": [
      "750 object distances\n"
     ]
    }
   ],
   "source": [
    "# Object Distance (OD)\n",
    "od_all = []\n",
    "\n",
    "for lay in layouts:\n",
    "    for i in range(len(lay)):\n",
    "        for j in range(i):\n",
    "            od_all.append(lay[i].dist(lay[j]))\n",
    "\n",
    "print(f\"{len(od_all)} object distances\")"
   ]
  },
  {
   "cell_type": "code",
   "execution_count": 23,
   "metadata": {},
   "outputs": [
    {
     "data": {
      "image/png": "[encoded data removed]",
      "text/plain": [
       "<Figure size 432x288 with 1 Axes>"
      ]
     },
     "metadata": {
      "needs_background": "light"
     },
     "output_type": "display_data"
    }
   ],
   "source": [
    "plt.hist(od_all, bins = 24, range = [0, max(od_all)], color = \"orange\")\n",
    "plt.title(\"Distribution of Object Distances\")\n",
    "plt.show()"
   ]
  },
  {
   "cell_type": "code",
   "execution_count": 8,
   "metadata": {},
   "outputs": [
    {
     "data": {
      "image/png": "[encoded data removed]",
      "text/plain": [
       "<Figure size 648x864 with 6 Axes>"
      ]
     },
     "metadata": {
      "needs_background": "light"
     },
     "output_type": "display_data"
    }
   ],
   "source": [
    "fig, axs = plt.subplots(2, 3, figsize = (9, 12))\n",
    "for i in range(N_POINTS_LAYOUT):\n",
    "    ith_ps = [layouts[j][i] for j in range(N_LAYOUTS)]\n",
    "    xs, ys = [p.x for p in ith_ps], [p.y for p in ith_ps]\n",
    "    axs[i//3, i%3].scatter(xs, ys)\n",
    "    axs[i//3, i%3].set_title(f\"Distribution of {i}th points\")"
   ]
  },
  {
   "cell_type": "markdown",
   "metadata": {},
   "source": [
    "# Dynamic Trial Shuffling\n",
    "- We shuffle the N trials such that the boundary visibility alternates each time."
   ]
  },
  {
   "cell_type": "markdown",
   "metadata": {},
   "source": [
    "## Checks\n",
    "\n",
    "- At least K = 5 trials between trials of the same pairing.\n",
    "- We make sure that approx. half the pairs happen in A->B, and the other half happens in B->A\n",
    "- We make sure that between adjacent pairs, the ending location and starting location is always opposite.\n",
    "- We want to check the number of objects within the same cells across a sliding window of 5 trials."
   ]
  },
  {
   "cell_type": "markdown",
   "metadata": {},
   "source": [
    "# Objects\n",
    "- 5 different shapes (circle, cube, cylinder, pyramid, star)\n",
    "- 5 different colors from a color-blind-friendly palette.\n",
    "-> 25 different combinations.\n",
    "\n",
    "Any object generated must not have been in the last 10 shown object."
   ]
  },
  {
   "cell_type": "code",
   "execution_count": null,
   "metadata": {},
   "outputs": [],
   "source": []
  }
 ],
 "metadata": {
  "kernelspec": {
   "display_name": "Python 3",
   "language": "python",
   "name": "python3"
  },
  "language_info": {
   "codemirror_mode": {
    "name": "ipython",
    "version": 3
   },
   "file_extension": ".py",
   "mimetype": "text/x-python",
   "name": "python",
   "nbconvert_exporter": "python",
   "pygments_lexer": "ipython3",
   "version": "3.7.0"
  }
 },
 "nbformat": 4,
 "nbformat_minor": 4
}

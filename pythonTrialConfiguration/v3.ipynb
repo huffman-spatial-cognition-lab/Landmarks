{
 "cells": [
  {
   "cell_type": "code",
   "execution_count": 5,
   "metadata": {},
   "outputs": [],
   "source": [
    "import random\n",
    "import math\n",
    "import matplotlib.pyplot as plt\n",
    "import time\n",
    "import numpy as np\n",
    "from point import Point"
   ]
  },
  {
   "cell_type": "markdown",
   "metadata": {},
   "source": [
    "Same pool of trials for all participants (static), with different shuffling (dynamic).\n",
    "\n",
    "---\n",
    "\n",
    "# Static Layout Pool\n",
    "This refers to the generation of the layout pool, which will is the same for ALL participants."
   ]
  },
  {
   "cell_type": "markdown",
   "metadata": {},
   "source": [
    "## Generation\n",
    "\n",
    "- Given N trials, we produce  N/2 pairs of layouts.\n",
    "    - Between these pairs, we keep the same coordinates for the points, and the same order of navigation.\n",
    "    - One of these pairs is the no-boundary-show, the other is the boundary-shown. The layout is rotated between these two.\n",
    "    - Per layout, we have 5 objects and an ending location. The first object is also the starting location and might be asked.\n",
    "    - We do not want any 2 objects to be too close to each other.\n",
    "    - We do not want any path to be too short. We do not have an upper bound on the travel distance.\n",
    "    - We want to to make sure that there is at least one object on both sides."
   ]
  },
  {
   "cell_type": "code",
   "execution_count": 20,
   "metadata": {},
   "outputs": [],
   "source": [
    "N_POINTS_LAYOUT = 6 # 5 objects, one of which is the starting location, and an ending location\n",
    "N_LAYOUTS = 50 # generate this many layouts. each layout produces a pair (visible/invisible boundary)\n",
    "\n",
    "# these are currently arbitrary units that we can scale up and down as needed\n",
    "# w=5, l=10 represents a 1 by 2 rectangle room\n",
    "WIDTH = 5 \n",
    "LENGTH = 10\n",
    "\n",
    "# this is the minimum distance any two objects (not a path) can have. \n",
    "# used to prevent objects appearing too close and confusing participants\n",
    "MIN_DIST_OBJECTS = 1.5\n",
    "\n",
    "# this is the minimum path distance. no subsequent object should appear closer than this.\n",
    "# greater than MIN_DIST_OBJECTS because objects appearing too close also means they are visited too soon and not enough time to learn that object\n",
    "MIN_DIST_PATH = 2.3"
   ]
  },
  {
   "cell_type": "code",
   "execution_count": 74,
   "metadata": {},
   "outputs": [],
   "source": [
    "def generate_random_layout():\n",
    "    return [Point.random_rect(WIDTH, LENGTH) for p in range(N_POINTS_LAYOUT)]\n",
    "\n",
    "def has_valid_margin(p):\n",
    "    buffer = 0.05\n",
    "    x_lo = buffer * WIDTH\n",
    "    x_hi = (1 - buffer) * WIDTH\n",
    "    \n",
    "    y_lo = buffer * LENGTH\n",
    "    y_hi = (1 - buffer) * LENGTH\n",
    "    \n",
    "    border_lo = (LENGTH / 2) - LENGTH * buffer\n",
    "    border_hi = (LENGTH / 2) + LENGTH * buffer\n",
    "    \n",
    "    bufferFromBoundary = (x_lo < p.x < x_hi) and (y_lo < p.y < y_hi)\n",
    "    bufferFromBorder = not (border_lo < p.y < border_hi)\n",
    "    \n",
    "    return bufferFromBoundary and bufferFromBorder\n",
    "\n",
    "def is_valid_layout(lay):\n",
    "    \n",
    "    # check all distance constraints, (dist between objects and path distances)\n",
    "    for i in range(len(lay)):\n",
    "        for j in range(i):\n",
    "            # if these points are adjacent, check for path distance condition, otherwise object distance condition\n",
    "            lower_bound = MIN_DIST_PATH if j == i - 1 else MIN_DIST_OBJECTS\n",
    "            if lay[i].dist(lay[j]) <= lower_bound:\n",
    "                return False\n",
    "    \n",
    "    # check that there is at least one object on each side\n",
    "    # note that this checks for objects ONLY (that is; not the last point which is the ending/task location)\n",
    "    objects_on_lower_side = sum([1 if l.y < LENGTH / 2 else 0 for l in lay[:N_POINTS_LAYOUT-1]])\n",
    "    if not ( 1 <= objects_on_lower_side < N_POINTS_LAYOUT-1):\n",
    "        # either 0 or N_POINTS_LAYOUT-1 on this side, which means the reverse for the other side. not valid!\n",
    "        return False\n",
    "    \n",
    "    for p in lay:\n",
    "        if not has_valid_margin(p):\n",
    "            return False\n",
    "    \n",
    "    return True\n",
    "\n",
    "def generate_valid_layout():\n",
    "    candidate = generate_random_layout()\n",
    "    c = 0\n",
    "    while not is_valid_layout(candidate):\n",
    "        c += 1\n",
    "        if c == 1e5:\n",
    "            print(\"can not find valid layout!\")\n",
    "            return None\n",
    "        candidate = generate_random_layout()\n",
    "    return candidate"
   ]
  },
  {
   "cell_type": "code",
   "execution_count": 75,
   "metadata": {},
   "outputs": [],
   "source": [
    "layouts = []\n",
    "for l in range(N_LAYOUTS):\n",
    "    layouts.append(generate_valid_layout())"
   ]
  },
  {
   "cell_type": "code",
   "execution_count": 76,
   "metadata": {
    "scrolled": true
   },
   "outputs": [
    {
     "name": "stdout",
     "output_type": "stream",
     "text": [
      "[[P(2.03, 6.42), P(0.53, 8.59), P(4.61, 6.44), P(4.05, 8.98), P(1.43, 3.73), P(3.84, 3.47)], [P(4.14, 3.26), P(3.32, 9.27), P(0.39, 7.9), P(3.84, 7.45), P(0.81, 2.38), P(2.52, 6.01)], [P(3.24, 7.48), P(4.36, 1.17), P(1.14, 2.3), P(0.25, 6.2), P(2.95, 2.79), P(3.85, 8.87)], [P(4.67, 3.17), P(4.57, 7.61), P(1.22, 9.03), P(4.55, 5.7), P(4.2, 9.32), P(0.92, 2.67)], [P(1.6, 9.02), P(2.36, 2.57), P(1.41, 6.02), P(1.59, 0.63), P(3.12, 4.0), P(3.94, 9.21)], [P(1.01, 3.36), P(2.11, 7.79), P(4.33, 3.87), P(1.18, 1.18), P(3.65, 0.95), P(3.69, 7.81)], [P(2.96, 6.17), P(1.07, 0.89), P(3.62, 9.0), P(4.68, 6.56), P(2.15, 4.08), P(0.32, 2.42)], [P(2.28, 9.41), P(4.63, 1.09), P(4.05, 8.86), P(2.83, 0.64), P(0.73, 7.67), P(0.26, 1.95)], [P(2.7, 6.7), P(4.58, 0.54), P(3.31, 4.31), P(1.97, 8.2), P(4.7, 6.33), P(2.43, 1.22)], [P(2.08, 1.92), P(3.96, 6.1), P(3.64, 2.9), P(0.72, 5.5), P(4.5, 0.57), P(1.02, 0.81)], [P(3.43, 2.27), P(0.25, 6.08), P(0.6, 8.73), P(2.33, 7.04), P(1.93, 3.65), P(4.06, 7.05)], [P(2.54, 3.91), P(2.88, 1.24), P(1.43, 7.82), P(0.32, 5.78), P(4.18, 9.31), P(0.44, 3.95)], [P(3.05, 3.49), P(3.53, 8.55), P(1.87, 1.64), P(2.25, 7.37), P(4.38, 6.39), P(0.4, 6.47)], [P(2.6, 3.93), P(0.56, 5.92), P(3.46, 7.47), P(1.26, 1.79), P(2.21, 8.84), P(3.4, 2.28)], [P(4.5, 7.4), P(0.72, 3.3), P(3.32, 3.66), P(3.68, 5.99), P(2.24, 1.63), P(2.98, 8.57)], [P(4.34, 7.07), P(4.41, 2.26), P(0.72, 3.25), P(1.65, 1.12), P(1.19, 8.62), P(2.33, 3.59)], [P(3.39, 2.88), P(1.78, 0.9), P(3.78, 8.22), P(2.57, 4.45), P(1.94, 8.83), P(0.48, 5.9)], [P(3.05, 6.84), P(0.31, 8.03), P(2.08, 1.36), P(1.15, 6.39), P(3.45, 9.22), P(0.34, 3.53)], [P(4.48, 9.24), P(1.04, 3.93), P(2.61, 9.47), P(4.7, 6.81), P(1.51, 2.01), P(3.87, 2.65)], [P(3.12, 4.38), P(0.27, 8.53), P(2.69, 6.02), P(0.26, 5.78), P(4.17, 6.44), P(3.3, 1.83)], [P(3.72, 9.41), P(1.88, 2.32), P(3.61, 7.69), P(2.3, 4.07), P(1.75, 7.64), P(4.22, 5.73)], [P(3.0, 3.56), P(2.05, 5.71), P(1.43, 8.88), P(3.68, 1.52), P(4.53, 6.21), P(1.66, 0.78)], [P(3.32, 2.17), P(0.66, 3.25), P(4.4, 4.28), P(3.31, 9.25), P(3.9, 0.69), P(4.29, 6.14)], [P(2.12, 3.46), P(0.76, 1.12), P(4.35, 0.83), P(3.22, 7.88), P(2.35, 0.96), P(1.35, 6.52)], [P(2.23, 5.77), P(1.24, 9.5), P(3.38, 1.47), P(0.82, 6.46), P(4.19, 6.69), P(1.91, 3.07)], [P(4.5, 1.9), P(2.3, 7.94), P(2.67, 1.32), P(4.52, 6.53), P(1.5, 2.55), P(1.23, 6.36)], [P(3.28, 4.45), P(1.75, 1.47), P(4.53, 5.71), P(0.89, 9.15), P(2.77, 7.31), P(4.48, 0.6)], [P(0.69, 7.29), P(1.1, 0.54), P(2.43, 9.24), P(0.54, 3.93), P(2.97, 1.16), P(4.37, 5.52)], [P(3.37, 9.46), P(3.66, 6.68), P(1.55, 3.07), P(0.36, 9.43), P(1.49, 1.12), P(3.82, 1.57)], [P(4.03, 5.97), P(1.14, 1.57), P(0.34, 6.37), P(2.71, 2.06), P(0.6, 8.45), P(1.41, 3.37)], [P(4.38, 1.54), P(3.0, 5.74), P(3.67, 8.61), P(1.67, 1.1), P(3.51, 2.77), P(0.92, 7.7)], [P(0.85, 8.36), P(2.06, 3.79), P(2.66, 0.74), P(0.6, 6.1), P(3.06, 7.84), P(0.85, 1.32)], [P(2.95, 3.89), P(1.23, 5.96), P(3.51, 9.25), P(4.48, 2.85), P(0.91, 3.21), P(3.73, 5.68)], [P(1.25, 1.31), P(3.78, 6.8), P(4.55, 4.22), P(2.91, 1.11), P(2.8, 3.44), P(1.54, 9.32)], [P(0.59, 5.77), P(3.09, 2.15), P(4.11, 6.03), P(1.54, 8.48), P(2.59, 5.68), P(4.04, 0.88)], [P(1.02, 1.29), P(0.53, 4.41), P(4.67, 1.49), P(3.79, 9.06), P(1.77, 3.45), P(2.24, 6.55)], [P(1.77, 7.34), P(2.71, 3.32), P(3.13, 8.93), P(0.31, 6.95), P(4.12, 1.19), P(1.62, 9.47)], [P(2.03, 7.55), P(4.09, 8.75), P(4.48, 6.19), P(0.58, 4.17), P(1.92, 2.26), P(3.12, 4.35)], [P(3.02, 1.01), P(3.76, 9.49), P(2.35, 4.28), P(4.41, 2.5), P(0.61, 6.71), P(4.01, 5.54)], [P(3.54, 3.66), P(3.86, 8.88), P(1.98, 2.32), P(1.53, 6.87), P(1.48, 0.64), P(1.52, 4.38)], [P(4.27, 3.31), P(4.62, 6.02), P(1.05, 4.47), P(3.46, 2.01), P(1.4, 6.88), P(0.54, 0.73)], [P(1.05, 4.1), P(3.96, 6.39), P(2.18, 1.02), P(4.73, 4.47), P(4.31, 1.21), P(3.98, 8.85)], [P(2.68, 7.36), P(4.66, 0.7), P(0.78, 7.32), P(1.36, 4.39), P(0.3, 0.82), P(1.49, 9.07)], [P(1.31, 4.21), P(0.44, 7.32), P(4.52, 7.44), P(0.78, 2.6), P(3.65, 1.29), P(1.18, 9.02)], [P(2.92, 9.21), P(2.11, 4.15), P(1.84, 0.55), P(1.21, 9.37), P(3.41, 6.56), P(3.73, 4.25)], [P(2.3, 2.22), P(0.6, 6.35), P(0.94, 0.75), P(0.81, 3.97), P(4.5, 6.84), P(2.73, 8.87)], [P(3.95, 6.02), P(4.4, 8.96), P(2.04, 2.68), P(2.44, 8.42), P(4.53, 2.27), P(0.9, 1.34)], [P(0.43, 3.92), P(4.08, 9.05), P(3.92, 3.75), P(0.74, 7.37), P(3.05, 1.89), P(1.28, 8.88)], [P(3.42, 4.24), P(4.05, 8.46), P(0.78, 7.04), P(0.49, 4.42), P(0.98, 9.29), P(0.64, 1.81)], [P(3.4, 4.4), P(1.54, 9.38), P(3.76, 2.3), P(1.01, 1.56), P(2.44, 6.51), P(1.79, 2.91)]]\n"
     ]
    }
   ],
   "source": [
    "print(layouts)"
   ]
  },
  {
   "cell_type": "markdown",
   "metadata": {},
   "source": [
    "## Checks\n",
    "- We want to check for the following distributions:\n",
    "    - Pointing ground-truths -> compare those in the same side and across the boundary.\n",
    "    - How much they have traveled\n",
    "    - Distances between any two objects\n",
    "    \n",
    "- And the following are nice sanity checks to have:\n",
    "    - Plot of all layouts\n",
    "    - Plot of all points"
   ]
  },
  {
   "cell_type": "code",
   "execution_count": null,
   "metadata": {},
   "outputs": [],
   "source": [
    "# Ground Truth for Pointing Tasks (GTPT)\n",
    "gtpt_same = []\n",
    "gtpt_cross = []\n",
    "\n",
    "for lay in layouts:\n",
    "    last = lay[-1]\n",
    "    last_side = last.y < LENGTH / 2\n",
    "    \n",
    "    for obj in lay[:-1]:\n",
    "        is_on_same_side = last_side == (obj.y < LENGTH / 2)\n",
    "        dist = last.dist(obj)\n",
    "        if is_on_same_side:\n",
    "            gtpt_same.append(dist)\n",
    "        else:\n",
    "            gtpt_cross.append(dist)\n",
    "\n",
    "gtpt_all = [gtpt_same, gtpt_cross]\n",
    "print(len(gtpt_same), \"same side; \", len(gtpt_cross), \"across boundary\")"
   ]
  },
  {
   "cell_type": "code",
   "execution_count": null,
   "metadata": {},
   "outputs": [],
   "source": [
    "plt.hist(gtpt_all, bins = 24, range = [0, max(gtpt_same + gtpt_cross)] ,histtype='step', stacked=True, fill=False, label = [\"Same Side\", \"Across Boundary\"])\n",
    "plt.legend(prop={'size': 10})\n",
    "plt.title(\"Distribution of Pointing Task Ground-Truth Distances by Object Side\")\n",
    "plt.show()"
   ]
  },
  {
   "cell_type": "code",
   "execution_count": null,
   "metadata": {},
   "outputs": [],
   "source": [
    "fig, axs = plt.subplots(2, 3, figsize = (9, 12))\n",
    "for i in range(N_POINTS_LAYOUT):\n",
    "    ith_ps = [layouts[j][i] for j in range(N_LAYOUTS)]\n",
    "    xs, ys = [p.x for p in ith_ps], [p.y for p in ith_ps]\n",
    "    axs[i//3, i%3].scatter(xs, ys)\n",
    "    axs[i//3, i%3].set_title(f\"Distribution of {i}th points\")"
   ]
  },
  {
   "cell_type": "markdown",
   "metadata": {},
   "source": [
    "# Dynamic Trial Shuffling\n",
    "- We shuffle the N trials such that the boundary visibility alternates each time."
   ]
  },
  {
   "cell_type": "markdown",
   "metadata": {},
   "source": [
    "## Checks\n",
    "\n",
    "- At least K = 5 trials between trials of the same pairing.\n",
    "- We make sure that approx. half the pairs happen in A->B, and the other half happens in B->A\n",
    "- We make sure that between adjacent pairs, the ending location and starting location is always opposite.\n",
    "- We want to check the number of objects within the same cells across a sliding window of 5 trials."
   ]
  },
  {
   "cell_type": "markdown",
   "metadata": {},
   "source": [
    "# Objects\n",
    "- 5 different shapes (circle, cube, cylinder, pyramid, star)\n",
    "- 5 different colors from a color-blind-friendly palette.\n",
    "-> 25 different combinations.\n",
    "\n",
    "Any object generated must not have been in the last 10 shown object."
   ]
  },
  {
   "cell_type": "code",
   "execution_count": null,
   "metadata": {},
   "outputs": [],
   "source": []
  }
 ],
 "metadata": {
  "kernelspec": {
   "display_name": "Python 3",
   "language": "python",
   "name": "python3"
  },
  "language_info": {
   "codemirror_mode": {
    "name": "ipython",
    "version": 3
   },
   "file_extension": ".py",
   "mimetype": "text/x-python",
   "name": "python",
   "nbconvert_exporter": "python",
   "pygments_lexer": "ipython3",
   "version": "3.8.5"
  }
 },
 "nbformat": 4,
 "nbformat_minor": 4
}

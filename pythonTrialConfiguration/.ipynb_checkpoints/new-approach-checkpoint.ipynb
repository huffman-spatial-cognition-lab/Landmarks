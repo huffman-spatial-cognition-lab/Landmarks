{
 "cells": [
  {
   "cell_type": "markdown",
   "metadata": {},
   "source": [
    "## New Experimental Approach\n",
    "\n",
    "#### generating trials  \n",
    "-> each trial consists of multiple objects, and a final location for the pointing task\n",
    " - the trials are configured with the `config` variable\n",
    "   - there OBJECT_PER_TRIAL objects per trial + another location for the pointing task\n",
    "   - each trial is configured with;\n",
    "     - the distance between the objects as determined with a range, specific to trial configuration.what kind of experimental controls?  \n",
    "     - whether the trial includes crossing the boundary (same setting for all objects within)  \n",
    "       - we validate that there actually is at least one crossing, if crossing is allowed (specific number configured with MIN_CROSSINGS_IF_ENABLED)\n",
    "     - border visibility for the trial, specified for the entire trial (not individual movements)\n",
    "       - this is configured using \"countWithBoundary\", where there will be that many (N) trials of the same spec with a boundary visible, and (count - N) w/o border visibility\n",
    " - we do not keep any distances discrete\n",
    "   - real world includes noise; for now we are assuming that these variables will be continuous. Therefore,\n",
    "   - we have a record of all distances *between objects* (movement distance)\n",
    "       - we had said: \"we will want to verify that our distances have consistent means and variances.\"\n",
    "           - what does this look like (what report, graph etc. is needed? what is \"good\"? what is \"bad\"?)\n",
    "           - do we want to also do this for pointing ground-truth? (probably!)\n",
    " - we validate that the pointing ground-truth is above a threshold (> PTOTASK_GROUND_TRUTH_LOWER_BOUND)\n",
    "    \n",
    "#### object display\n",
    "- participant moves from target to target, revealing the next one each time\n",
    " - the object is always visible. if it is on the other side & blocked by boundary, they will know because they won't be able to see it\n",
    "- objects are the same geometrical shapes of different colors\n",
    "  - make sure that the colors are color-friendly\n",
    "      - [] pick a good color scheme\n",
    "      - [] ask participants about color-blindness\n",
    "  - vary shape and color from a random pool\n",
    "    - this increases performance in recall, so that we can actually measure the distance bias\n",
    "    - [] create a pool of different shapes and colors\n",
    "    - [] pick randomly for each object\n",
    "      - [] between participants, look into keeping the seed same\n",
    "   \n",
    "\n",
    "\n",
    "#### pointing task / data collection / data analysis\n",
    "- we want to control for the time and distance elapsed when moving, as well as the time taken for pointing\n",
    "  - time taken pointing as a potential proxy for confidence?  \n",
    " \n",
    "- we cue the participant for the object to recall\n",
    "  - pointing task already has the participant inputting data by moving a pseudo-object\n",
    "    - [] change this to the object that they actually saw \n",
    "  - we ask about the objects in a random permutation order\n",
    "    - we can investigate recency & primacy already, permutation order could enhance or diminish those effects, look into it during analysis.\n",
    "    \n",
    "- [] make list of all variables we will be tracking during the analysis\n",
    "  \n",
    "  \n",
    "Data Control: Use 2D np.array for this  \n",
    "- [] aggregate the histogram over all trials for pair-wise distances\n",
    "  - let's us see the overall distribution (mean, median, variance, skew - if any) of the distances.\n",
    "  - compare the distribution of within- and across-boundary cases: side-by-side box plot.\n",
    "  \n",
    "- [] generate similar aggregated histogram for ground-truth distances\n",
    "  - one for all the ground-truths\n",
    "  - compare the distribution of within- and across-boundary cases: side-by-side box plot.\n",
    "  - compare the distribution across {1,2,...n}th object within: side-by-side box plot.\n",
    "      - [] investigate potential interference effect from proximity: (due to our random generation, later points might end up having smaller ground-truth values, and we would like to prevent any potential interference due to this!)\n",
    "\n",
    "#### implementation\n",
    "[ ] look into the unity implementation and think about how we can integrate these changes there\n",
    "    [ ] if possible, start revamping the experiment to follow this approach with some dummy testing trials\n",
    "   \n",
    " - [] think about export format from this scripts - CSV that we read from the Unity"
   ]
  },
  {
   "cell_type": "code",
   "execution_count": 8,
   "metadata": {},
   "outputs": [],
   "source": [
    "import random\n",
    "import math\n",
    "import matplotlib.pyplot as plt\n",
    "import time\n",
    "import numpy as np\n",
    "import json"
   ]
  },
  {
   "cell_type": "code",
   "execution_count": 2,
   "metadata": {},
   "outputs": [],
   "source": [
    "OBJECT_PER_TRIAL = 5\n",
    "MIN_CROSSINGS_IF_ENABLED = 1\n",
    "PTOTASK_GROUND_TRUTH_LOWER_BOUND = 0.5\n",
    "\n",
    "WIDTH = 4\n",
    "LENGTH = 6 # boundary is half-way within length\n",
    "\n",
    "PLOT_INDIVIDUAL = True\n",
    "PLOT_ALL = True"
   ]
  },
  {
   "cell_type": "code",
   "execution_count": 3,
   "metadata": {},
   "outputs": [
    {
     "data": {
      "text/plain": [
       "5.0"
      ]
     },
     "execution_count": 3,
     "metadata": {},
     "output_type": "execute_result"
    }
   ],
   "source": [
    "# define Point class that will provide some methods of convenience\n",
    "class Point():\n",
    "    def __init__(self, x = None, y = None):\n",
    "        self.x = x\n",
    "        self.y = y\n",
    "        \n",
    "    def __sub__(self, other):\n",
    "        if not isinstance(other, Point):\n",
    "            return NotImplementedError()\n",
    "        else:\n",
    "            return Point(self.x - other.x, self.y - other.y)\n",
    "        \n",
    "    def __add__(self, other):\n",
    "        if not isinstance(other, Point):\n",
    "            return NotImplementedError()\n",
    "        else:\n",
    "            return Point(self.x + other.x, self.y + other.y)\n",
    "        \n",
    "    def __repr__(self):\n",
    "        return \"P(\" + str(round(self.x, 2)) + \", \" + str(round(self.y, 2)) + \")\"\n",
    "        \n",
    "    def dist(self, other):\n",
    "        diff = self - other\n",
    "        return diff.magnitude()\n",
    "    \n",
    "    def magnitude(self):\n",
    "        return (self.x**2 + self.y**2) ** 0.5\n",
    "    \n",
    "    @staticmethod\n",
    "    def random_circ(dist = 1):\n",
    "        '''\n",
    "        generates a random point with the given distance\n",
    "        defaults to dist = 1 if no distance (on unit circle)\n",
    "        '''\n",
    "        theta = random.random() * 360\n",
    "        x = math.cos(theta) * dist\n",
    "        y = math.sin(theta) * dist\n",
    "        \n",
    "        return Point(x, y)\n",
    "\n",
    "    @staticmethod\n",
    "    def random_rect(w = WIDTH, l = LENGTH):\n",
    "        x = random.random() * w\n",
    "        y = random.random() * l\n",
    "        \n",
    "        return Point(x, y)\n",
    "        \n",
    "\n",
    "# test distance and __sub__ functionality (dist uses __sub__)\n",
    "p1 = Point(0,0)\n",
    "p2 = Point(3,4)\n",
    "p1.dist(p2)"
   ]
  },
  {
   "cell_type": "code",
   "execution_count": 4,
   "metadata": {},
   "outputs": [],
   "source": [
    "def generate_rand_movement(distance, start = None):\n",
    "    \n",
    "    if not start: # no start point given, generate within the rectangle\n",
    "        start = Point.random_rect()\n",
    "        \n",
    "    end = start + Point.random_circ(distance)\n",
    "    return (start, end)\n",
    "\n",
    "def pointsOnSameSide(p1, p2):\n",
    "    mid_y = LENGTH / 2\n",
    "    \n",
    "    return (p1.y >= mid_y) == (p2.y >= mid_y)\n",
    "\n",
    "def distances_between_objects(objs):\n",
    "    trial_dists = []\n",
    "    \n",
    "    for i in range(len(objs)-1):\n",
    "        trial_dists.append(objs[i].dist(objs[i+1]))\n",
    "        \n",
    "    return trial_dists\n",
    "\n",
    "def validate_movement(start, end, cross, hasBorder):\n",
    "    buffer = 0.05\n",
    "    x_lo = buffer * WIDTH\n",
    "    x_hi = (1 - buffer) * WIDTH\n",
    "    \n",
    "    y_lo = buffer * LENGTH\n",
    "    y_hi = (1 - buffer) * LENGTH\n",
    "    \n",
    "    border_lo = (LENGTH / 2) - LENGTH * buffer\n",
    "    border_hi = (LENGTH / 2) + LENGTH * buffer\n",
    "    \n",
    "    isOnSameSide = pointsOnSameSide(start, end)\n",
    "    \n",
    "    crossIsCorrect = (isOnSameSide != cross)\n",
    "    \n",
    "    bufferFromBoundary = (x_lo < start.x < x_hi) and (x_lo < end.x < x_hi) and (y_lo < start.y < y_hi) and (y_lo < end.y < y_hi)\n",
    "    bufferFromBorder = not hasBorder or not (border_lo < start.y < border_hi or border_lo < end.y < border_hi)\n",
    "    \n",
    "    return crossIsCorrect and bufferFromBoundary and bufferFromBorder\n",
    "\n",
    "def generate_valid_movement(dist_min, dist_max, cross, hasBorder, start_from = None):\n",
    "    tries = 0\n",
    "    max_tries = 10000\n",
    "    \n",
    "    while tries < max_tries:\n",
    "        distance = random.random() * (dist_max - dist_min) + dist_min\n",
    "        start, end = generate_rand_movement(distance, start_from)\n",
    "        tries += 1\n",
    "        \n",
    "        if validate_movement(start, end, cross, hasBorder):\n",
    "            return [start, end]\n",
    "        \n",
    "    print(\"valid movement failed after \", tries , \" tries\")\n",
    "    return None, None # if no valid movement, return None so that it can be handled\n"
   ]
  },
  {
   "cell_type": "code",
   "execution_count": 5,
   "metadata": {},
   "outputs": [],
   "source": [
    "def generate_random_trial(dist_min, dist_max, crossBoundary):\n",
    "\n",
    "    prev = None\n",
    "    trial = []\n",
    "    \n",
    "    for obj in range(OBJECT_PER_TRIAL-1 + 1): # we add another point at the end for the location from which they'll point to the objects\n",
    "        # placeholder until we find what specific distance we would like to find\n",
    "        random_border = random.random() > 0.5\n",
    "        \n",
    "        start, end = generate_valid_movement(dist_min, dist_max, crossBoundary, random_border, prev)\n",
    "        if start is None:\n",
    "            return None\n",
    "        if not prev:\n",
    "            trial.append(start)\n",
    "            \n",
    "        trial.append(end)\n",
    "        prev = end\n",
    "    return trial\n",
    "\n",
    "def validate_trial(trial, crossBoundary):\n",
    "    if not trial: # if we failed, trial will be null\n",
    "        return False\n",
    "    # check if number of boundary crossings is more than 0, if there is supposed to be a crossing\n",
    "    if crossBoundary:\n",
    "        crossings = 0\n",
    "        for i in range(len(trial) - 1):\n",
    "            if not pointsOnSameSide(trial[i], trial[i+1]):\n",
    "                crossings += 1\n",
    "            \n",
    "        if crossings < MIN_CROSSINGS_IF_ENABLED:\n",
    "            return False\n",
    "        \n",
    "    # validate that no ground-truth is less than our lower bound\n",
    "    pointing_from = trial[-1]\n",
    "    for t in trial[:-1]:\n",
    "        if pointing_from.dist(t) < PTOTASK_GROUND_TRUTH_LOWER_BOUND:\n",
    "            return False\n",
    "    \n",
    "    return True\n",
    "\n",
    "def generate_valid_trial(dist_min, dist_max, crossBoundary):\n",
    "    tries = 0\n",
    "    max_tries = 1000\n",
    "    while tries < max_tries:\n",
    "        tries += 1\n",
    "        \n",
    "        rand_trial = generate_random_trial(dist_min, dist_max, crossBoundary)\n",
    "        if validate_trial(rand_trial, crossBoundary):\n",
    "            return rand_trial\n",
    "    print(f\"valid trial failed after {tries} tries\")\n"
   ]
  },
  {
   "cell_type": "code",
   "execution_count": 9,
   "metadata": {
    "scrolled": true
   },
   "outputs": [
    {
     "data": {
      "text/plain": [
       "'{\"trials\": [{\"expObjects\": [{\"x\": 1.510549835478308, \"y\": 2.227199481380028}, {\"x\": 0.49903913319737847, \"y\": 2.956157997838079}, {\"x\": 1.263701568060243, \"y\": 2.086457398657987}, {\"x\": 1.9884431097798037, \"y\": 2.6572795415322212}, {\"x\": 3.6750885349884106, \"y\": 2.3133452538738752}, {\"x\": 2.5855038563319455, \"y\": 2.5398771661042767}], \"boundaryVisible\": true}, {\"expObjects\": [{\"x\": 1.388819714959637, \"y\": 0.5077800691288565}, {\"x\": 0.36307123995390667, \"y\": 0.7583651617776328}, {\"x\": 0.7964533744221101, \"y\": 1.645964716126346}, {\"x\": 1.6293940904066582, \"y\": 0.3722936333825573}, {\"x\": 2.927371015355189, \"y\": 1.5784758971549016}, {\"x\": 2.4291826126725686, \"y\": 0.4542452776798591}], \"boundaryVisible\": false}, {\"expObjects\": [{\"x\": 1.8083051420885905, \"y\": 4.8302000858987295}, {\"x\": 1.3935125421856815, \"y\": 2.6841818068259853}, {\"x\": 0.3544396977641935, \"y\": 5.40240155588472}, {\"x\": 0.5467504715786738, \"y\": 2.0929614929244993}, {\"x\": 1.402478197314291, \"y\": 5.342324588013678}, {\"x\": 0.5214870291089415, \"y\": 2.9574419246023673}], \"boundaryVisible\": true}, {\"expObjects\": [{\"x\": 2.442866253017336, \"y\": 0.994240631440741}, {\"x\": 3.7269098861999863, \"y\": 4.096536881669325}, {\"x\": 2.6967084504961316, \"y\": 0.48578008937377115}, {\"x\": 3.729318828978938, \"y\": 4.280183734786435}, {\"x\": 3.0788277777582977, \"y\": 1.9903599501322344}, {\"x\": 2.295257936086035, \"y\": 3.803475458479933}], \"boundaryVisible\": false}]}'"
      ]
     },
     "execution_count": 9,
     "metadata": {},
     "output_type": "execute_result"
    }
   ],
   "source": [
    "config = {\n",
    "    \"trials\": [\n",
    "        { # within boundary\n",
    "            \"distanceMin\": 0.9,\n",
    "            \"distanceMax\": 1.8,\n",
    "            \"crossBoundary\": \"False\",\n",
    "            \"count\": 2,\n",
    "            \"countWithBoundary\": 1\n",
    "        },\n",
    "        { # across boundary\n",
    "            \"distanceMin\": 1.5,\n",
    "            \"distanceMax\": 4,\n",
    "            \"crossBoundary\": \"True\",\n",
    "            \"count\": 2,\n",
    "            \"countWithBoundary\": 1\n",
    "        }\n",
    "    ]\n",
    "}"
   ]
  },
  {
   "cell_type": "code",
   "execution_count": 14,
   "metadata": {},
   "outputs": [
    {
     "ename": "FileNotFoundError",
     "evalue": "[Errno 2] No such file or directory: 'D:/UnityProjects/Landmarks/Assets/Resources/json/pyTrialsOutput.json'",
     "output_type": "error",
     "traceback": [
      "\u001b[0;31m---------------------------------------------------------------------------\u001b[0m",
      "\u001b[0;31mFileNotFoundError\u001b[0m                         Traceback (most recent call last)",
      "\u001b[0;32m<ipython-input-14-ed1972873927>\u001b[0m in \u001b[0;36m<module>\u001b[0;34m\u001b[0m\n\u001b[1;32m     17\u001b[0m \u001b[0;34m\u001b[0m\u001b[0m\n\u001b[1;32m     18\u001b[0m \u001b[0mJSON_WRITE_PATH\u001b[0m \u001b[0;34m=\u001b[0m \u001b[0;34m\"D:/UnityProjects/Landmarks/Assets/Resources/json/pyTrialsOutput.json\"\u001b[0m\u001b[0;34m\u001b[0m\u001b[0;34m\u001b[0m\u001b[0m\n\u001b[0;32m---> 19\u001b[0;31m \u001b[0;32mwith\u001b[0m \u001b[0mopen\u001b[0m\u001b[0;34m(\u001b[0m\u001b[0mJSON_WRITE_PATH\u001b[0m\u001b[0;34m,\u001b[0m \u001b[0;34m\"w\"\u001b[0m\u001b[0;34m)\u001b[0m \u001b[0;32mas\u001b[0m \u001b[0mjson_out_file\u001b[0m\u001b[0;34m:\u001b[0m\u001b[0;34m\u001b[0m\u001b[0;34m\u001b[0m\u001b[0m\n\u001b[0m\u001b[1;32m     20\u001b[0m     \u001b[0mjson_out_file\u001b[0m\u001b[0;34m.\u001b[0m\u001b[0mwrite\u001b[0m\u001b[0;34m(\u001b[0m\u001b[0mjson\u001b[0m\u001b[0;34m.\u001b[0m\u001b[0mdumps\u001b[0m\u001b[0;34m(\u001b[0m\u001b[0;34m{\u001b[0m\u001b[0;34m\"trials\"\u001b[0m\u001b[0;34m:\u001b[0m\u001b[0mtrials\u001b[0m\u001b[0;34m}\u001b[0m\u001b[0;34m)\u001b[0m\u001b[0;34m)\u001b[0m\u001b[0;34m\u001b[0m\u001b[0;34m\u001b[0m\u001b[0m\n",
      "\u001b[0;31mFileNotFoundError\u001b[0m: [Errno 2] No such file or directory: 'D:/UnityProjects/Landmarks/Assets/Resources/json/pyTrialsOutput.json'"
     ]
    }
   ],
   "source": [
    "trials = [] # a trial is a set of points, with the last one being where predictions are made from\n",
    "\n",
    "for cfg_trial in config[\"trials\"]:\n",
    "    for cfg_trial_i in range(cfg_trial[\"count\"]):\n",
    "        d_min = cfg_trial[\"distanceMin\"]\n",
    "        d_max = cfg_trial[\"distanceMax\"]\n",
    "        c_bounds =  cfg_trial[\"crossBoundary\"] == \"True\"\n",
    "        bounds_viz = cfg_trial_i < cfg_trial[\"countWithBoundary\"]\n",
    "        \n",
    "        trial = generate_valid_trial(d_min, d_max,c_bounds)\n",
    "        \n",
    "        trials,\n",
    "        trials.append({\n",
    "            \"expObjects\": [{\"x\":p.x, \"y\":p.y} for p in trial],\n",
    "            \"boundaryVisible\": bounds_viz\n",
    "        })\n",
    "    \n",
    "JSON_WRITE_PATH = \"D:/UnityProjects/Landmarks/Assets/Resources/json/\"\n",
    "with open(JSON_WRITE_PATH, \"w+\") as json_out_file:\n",
    "    json_out_file.write(json.dumps({\"trials\":trials}))"
   ]
  },
  {
   "cell_type": "code",
   "execution_count": 17,
   "metadata": {},
   "outputs": [
    {
     "data": {
      "text/plain": [
       "False"
      ]
     },
     "execution_count": 17,
     "metadata": {},
     "output_type": "execute_result"
    }
   ],
   "source": [
    "import os\n",
    "os.path.exists(JSON_WRITE_PATH)"
   ]
  },
  {
   "cell_type": "code",
   "execution_count": 7,
   "metadata": {
    "scrolled": true
   },
   "outputs": [
    {
     "ename": "KeyError",
     "evalue": "'objects'",
     "output_type": "error",
     "traceback": [
      "\u001b[0;31m---------------------------------------------------------------------------\u001b[0m",
      "\u001b[0;31mKeyError\u001b[0m                                  Traceback (most recent call last)",
      "\u001b[0;32m<ipython-input-7-468e0c88ae35>\u001b[0m in \u001b[0;36m<module>\u001b[0;34m\u001b[0m\n\u001b[1;32m     20\u001b[0m \u001b[0mtrials_dists\u001b[0m \u001b[0;34m=\u001b[0m \u001b[0;34m[\u001b[0m\u001b[0;34m]\u001b[0m\u001b[0;34m\u001b[0m\u001b[0;34m\u001b[0m\u001b[0m\n\u001b[1;32m     21\u001b[0m \u001b[0;32mfor\u001b[0m \u001b[0mtrial\u001b[0m \u001b[0;32min\u001b[0m \u001b[0mtrials\u001b[0m\u001b[0;34m:\u001b[0m\u001b[0;34m\u001b[0m\u001b[0;34m\u001b[0m\u001b[0m\n\u001b[0;32m---> 22\u001b[0;31m     \u001b[0mplot_trial\u001b[0m\u001b[0;34m(\u001b[0m\u001b[0mtrial\u001b[0m\u001b[0;34m)\u001b[0m\u001b[0;34m\u001b[0m\u001b[0;34m\u001b[0m\u001b[0m\n\u001b[0m\u001b[1;32m     23\u001b[0m     \u001b[0mdists\u001b[0m \u001b[0;34m=\u001b[0m \u001b[0mdistances_between_objects\u001b[0m\u001b[0;34m(\u001b[0m\u001b[0mtrial\u001b[0m\u001b[0;34m[\u001b[0m\u001b[0;34m\"objects\"\u001b[0m\u001b[0;34m]\u001b[0m\u001b[0;34m)\u001b[0m\u001b[0;34m\u001b[0m\u001b[0;34m\u001b[0m\u001b[0m\n\u001b[1;32m     24\u001b[0m     \u001b[0mtrials_dists\u001b[0m\u001b[0;34m.\u001b[0m\u001b[0mappend\u001b[0m\u001b[0;34m(\u001b[0m\u001b[0mdists\u001b[0m\u001b[0;34m)\u001b[0m\u001b[0;34m\u001b[0m\u001b[0;34m\u001b[0m\u001b[0m\n",
      "\u001b[0;32m<ipython-input-7-468e0c88ae35>\u001b[0m in \u001b[0;36mplot_trial\u001b[0;34m(trial)\u001b[0m\n\u001b[1;32m      1\u001b[0m \u001b[0;32mdef\u001b[0m \u001b[0mplot_trial\u001b[0m\u001b[0;34m(\u001b[0m\u001b[0mtrial\u001b[0m\u001b[0;34m)\u001b[0m\u001b[0;34m:\u001b[0m\u001b[0;34m\u001b[0m\u001b[0;34m\u001b[0m\u001b[0m\n\u001b[0;32m----> 2\u001b[0;31m     \u001b[0mobjs\u001b[0m \u001b[0;34m=\u001b[0m \u001b[0mtrial\u001b[0m\u001b[0;34m[\u001b[0m\u001b[0;34m\"objects\"\u001b[0m\u001b[0;34m]\u001b[0m\u001b[0;34m\u001b[0m\u001b[0;34m\u001b[0m\u001b[0m\n\u001b[0m\u001b[1;32m      3\u001b[0m     \u001b[0mfig\u001b[0m\u001b[0;34m,\u001b[0m \u001b[0maxs\u001b[0m \u001b[0;34m=\u001b[0m \u001b[0mplt\u001b[0m\u001b[0;34m.\u001b[0m\u001b[0msubplots\u001b[0m\u001b[0;34m(\u001b[0m\u001b[0;36m1\u001b[0m\u001b[0;34m,\u001b[0m \u001b[0;36m2\u001b[0m\u001b[0;34m,\u001b[0m \u001b[0mfigsize\u001b[0m\u001b[0;34m=\u001b[0m\u001b[0;34m(\u001b[0m\u001b[0mWIDTH\u001b[0m \u001b[0;34m*\u001b[0m \u001b[0;36m2\u001b[0m\u001b[0;34m,\u001b[0m \u001b[0mLENGTH\u001b[0m\u001b[0;34m)\u001b[0m\u001b[0;34m)\u001b[0m\u001b[0;34m\u001b[0m\u001b[0;34m\u001b[0m\u001b[0m\n\u001b[1;32m      4\u001b[0m \u001b[0;34m\u001b[0m\u001b[0m\n\u001b[1;32m      5\u001b[0m     \u001b[0mprev\u001b[0m \u001b[0;34m=\u001b[0m \u001b[0mobjs\u001b[0m\u001b[0;34m[\u001b[0m\u001b[0;36m0\u001b[0m\u001b[0;34m]\u001b[0m\u001b[0;34m\u001b[0m\u001b[0;34m\u001b[0m\u001b[0m\n",
      "\u001b[0;31mKeyError\u001b[0m: 'objects'"
     ]
    }
   ],
   "source": [
    "def plot_trial(trial):\n",
    "    objs = trial[\"objects\"]\n",
    "    fig, axs = plt.subplots(1, 2, figsize=(WIDTH * 2, LENGTH))\n",
    "    \n",
    "    prev = objs[0]\n",
    "    for curr in objs[1:]:\n",
    "        axs[0].plot([prev.x,curr.x], [prev.y,curr.y])\n",
    "        prev = curr\n",
    "\n",
    "    # plot the border in any case\n",
    "    axs[0].plot([0, WIDTH],[LENGTH/2, LENGTH/2], \"k-\")\n",
    "    axs[0].set_xlim(0, WIDTH)\n",
    "    axs[0].set_ylim(0, LENGTH)\n",
    "    \n",
    "    distances = distances_between_objects(objs)\n",
    "    axs[1].hist(distances)\n",
    "    \n",
    "    return distances\n",
    "\n",
    "trials_dists = []\n",
    "for trial in trials:\n",
    "    plot_trial(trial)\n",
    "    dists = distances_between_objects(trial[\"objects\"])\n",
    "    trials_dists.append(dists)\n",
    "    print(f\"Mean:{np.mean(dists)} Median:{np.median(dists)} Range: {np.max(dists) - np.min(dists)} Stdev: {np.std(dists)}\")\n",
    "    plt.show()\n",
    "plt.hist(dist_data.flatten())"
   ]
  }
 ],
 "metadata": {
  "kernelspec": {
   "display_name": "Python 3",
   "language": "python",
   "name": "python3"
  },
  "language_info": {
   "codemirror_mode": {
    "name": "ipython",
    "version": 3
   },
   "file_extension": ".py",
   "mimetype": "text/x-python",
   "name": "python",
   "nbconvert_exporter": "python",
   "pygments_lexer": "ipython3",
   "version": "3.8.5"
  }
 },
 "nbformat": 4,
 "nbformat_minor": 5
}
